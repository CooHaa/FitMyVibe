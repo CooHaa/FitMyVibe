{
 "cells": [
  {
   "cell_type": "code",
   "execution_count": 1,
   "metadata": {},
   "outputs": [],
   "source": [
    "import json\n",
    "\n",
    "documents = []\n",
    "document_ratings = []\n",
    "count = 0\n",
    "\n",
    "with open('Amazon.json', 'r') as f:\n",
    "    for line in f:\n",
    "        if count < 250000:\n",
    "            try:\n",
    "                entry = json.loads(line)\n",
    "                review = entry.get('text')\n",
    "                rating = entry.get('rating')\n",
    "                if len(review.split()) > 10:\n",
    "                    count += 1\n",
    "                    documents.append(review)\n",
    "                    document_ratings.append(rating)\n",
    "            except json.JSONDecodeError:\n",
    "                continue  # skip malformed lines\n",
    "        else:\n",
    "            break"
   ]
  },
  {
   "cell_type": "code",
   "execution_count": null,
   "metadata": {},
   "outputs": [],
   "source": [
    "documents"
   ]
  },
  {
   "cell_type": "code",
   "execution_count": 2,
   "metadata": {},
   "outputs": [
    {
     "data": {
      "text/plain": [
       "250000"
      ]
     },
     "execution_count": 2,
     "metadata": {},
     "output_type": "execute_result"
    }
   ],
   "source": [
    "len(documents)"
   ]
  },
  {
   "cell_type": "code",
   "execution_count": 3,
   "metadata": {},
   "outputs": [],
   "source": [
    "f = open(\"documents.txt\", \"w\")\n",
    "\n",
    "print(documents, file=f)\n",
    "\n",
    "f.close()"
   ]
  },
  {
   "cell_type": "code",
   "execution_count": 3,
   "metadata": {},
   "outputs": [],
   "source": [
    "import sklearn\n",
    "from sklearn.feature_extraction.text import TfidfVectorizer"
   ]
  },
  {
   "cell_type": "code",
   "execution_count": 5,
   "metadata": {},
   "outputs": [],
   "source": [
    "vectorizer = TfidfVectorizer(stop_words = 'english', max_df = .6,\n",
    "                            min_df = 100)\n",
    "td_matrix = vectorizer.fit_transform([x for x in documents])"
   ]
  },
  {
   "cell_type": "code",
   "execution_count": 6,
   "metadata": {},
   "outputs": [
    {
     "name": "stdout",
     "output_type": "stream",
     "text": [
      "<class 'scipy.sparse._csr.csr_matrix'>\n",
      "(250000, 4316)\n"
     ]
    }
   ],
   "source": [
    "print(type(td_matrix))\n",
    "print(td_matrix.shape)"
   ]
  },
  {
   "cell_type": "code",
   "execution_count": null,
   "metadata": {},
   "outputs": [],
   "source": [
    "%pip install scipy"
   ]
  },
  {
   "cell_type": "code",
   "execution_count": 7,
   "metadata": {},
   "outputs": [],
   "source": [
    "import scipy\n",
    "from scipy.sparse.linalg import svds\n",
    "# do SVD with a very large k (we usually use 100), just for the sake of getting many sorted singular values (aka importances)\n",
    "u, s, v_trans = svds(td_matrix, k=100)"
   ]
  },
  {
   "cell_type": "code",
   "execution_count": 8,
   "metadata": {},
   "outputs": [
    {
     "name": "stdout",
     "output_type": "stream",
     "text": [
      "(250000, 100)\n",
      "(100,)\n",
      "(100, 4316)\n"
     ]
    }
   ],
   "source": [
    "print(u.shape)\n",
    "print(s.shape)\n",
    "print(v_trans.shape)"
   ]
  },
  {
   "cell_type": "code",
   "execution_count": 10,
   "metadata": {},
   "outputs": [
    {
     "name": "stdout",
     "output_type": "stream",
     "text": [
      "Defaulting to user installation because normal site-packages is not writeable\n",
      "Requirement already satisfied: matplotlib in /Users/aerienhuang/Library/Python/3.9/lib/python/site-packages (3.9.4)\n",
      "Requirement already satisfied: contourpy>=1.0.1 in /Users/aerienhuang/Library/Python/3.9/lib/python/site-packages (from matplotlib) (1.3.0)\n",
      "Requirement already satisfied: cycler>=0.10 in /Users/aerienhuang/Library/Python/3.9/lib/python/site-packages (from matplotlib) (0.12.1)\n",
      "Requirement already satisfied: fonttools>=4.22.0 in /Users/aerienhuang/Library/Python/3.9/lib/python/site-packages (from matplotlib) (4.56.0)\n",
      "Requirement already satisfied: kiwisolver>=1.3.1 in /Users/aerienhuang/Library/Python/3.9/lib/python/site-packages (from matplotlib) (1.4.7)\n",
      "Requirement already satisfied: numpy>=1.23 in /Users/aerienhuang/Library/Python/3.9/lib/python/site-packages (from matplotlib) (2.0.2)\n",
      "Requirement already satisfied: packaging>=20.0 in /Library/Frameworks/Python.framework/Versions/3.9/lib/python3.9/site-packages (from matplotlib) (21.3)\n",
      "Requirement already satisfied: pillow>=8 in /Users/aerienhuang/Library/Python/3.9/lib/python/site-packages (from matplotlib) (11.1.0)\n",
      "Requirement already satisfied: pyparsing>=2.3.1 in /Library/Frameworks/Python.framework/Versions/3.9/lib/python3.9/site-packages (from matplotlib) (3.0.7)\n",
      "Requirement already satisfied: python-dateutil>=2.7 in /Library/Frameworks/Python.framework/Versions/3.9/lib/python3.9/site-packages (from matplotlib) (2.8.2)\n",
      "Requirement already satisfied: importlib-resources>=3.2.0 in /Users/aerienhuang/Library/Python/3.9/lib/python/site-packages (from matplotlib) (6.4.5)\n",
      "Requirement already satisfied: zipp>=3.1.0 in /Users/aerienhuang/Library/Python/3.9/lib/python/site-packages (from importlib-resources>=3.2.0->matplotlib) (3.20.2)\n",
      "Requirement already satisfied: six>=1.5 in /Library/Frameworks/Python.framework/Versions/3.9/lib/python3.9/site-packages (from python-dateutil>=2.7->matplotlib) (1.16.0)\n",
      "Note: you may need to restart the kernel to use updated packages.\n",
      "Defaulting to user installation because normal site-packages is not writeable\n",
      "Requirement already satisfied: numpy in /Users/aerienhuang/Library/Python/3.9/lib/python/site-packages (2.0.2)\n",
      "Note: you may need to restart the kernel to use updated packages.\n"
     ]
    }
   ],
   "source": [
    "%pip install matplotlib\n",
    "%pip install numpy"
   ]
  },
  {
   "cell_type": "code",
   "execution_count": 9,
   "metadata": {},
   "outputs": [
    {
     "data": {
      "image/png": "[encoded data removed]",
      "text/plain": [
       "<Figure size 432x288 with 1 Axes>"
      ]
     },
     "metadata": {
      "needs_background": "light"
     },
     "output_type": "display_data"
    }
   ],
   "source": [
    "import matplotlib\n",
    "import numpy as np\n",
    "import matplotlib.pyplot as plt\n",
    "%matplotlib inline\n",
    "plt.plot(s[::-1])\n",
    "plt.xlabel(\"Singular value number\")\n",
    "plt.ylabel(\"Singular value\")\n",
    "plt.show()"
   ]
  },
  {
   "cell_type": "code",
   "execution_count": 10,
   "metadata": {},
   "outputs": [],
   "source": [
    "#      U       sigma       V^T\n",
    "docs_compressed, s, words_compressed = svds(td_matrix, k=50)\n",
    "words_compressed = words_compressed.transpose()"
   ]
  },
  {
   "cell_type": "code",
   "execution_count": 11,
   "metadata": {},
   "outputs": [
    {
     "name": "stdout",
     "output_type": "stream",
     "text": [
      "(4316, 50)\n",
      "(250000, 50)\n"
     ]
    }
   ],
   "source": [
    "print(words_compressed.shape)\n",
    "print(docs_compressed.shape)"
   ]
  },
  {
   "cell_type": "code",
   "execution_count": 12,
   "metadata": {},
   "outputs": [],
   "source": [
    "word_to_index = vectorizer.vocabulary_\n",
    "index_to_word = {i:t for t,i in word_to_index.items()}\n",
    "\n",
    "#row normalize\n",
    "from sklearn.preprocessing import normalize\n",
    "words_compressed_normed = normalize(words_compressed, axis = 1)\n",
    "\n",
    "# cosine similarity\n",
    "def closest_words(word_in, words_representation_in, k = 10):\n",
    "    if word_in not in word_to_index: return \"Not in vocab.\"\n",
    "    sims = words_representation_in.dot(words_representation_in[word_to_index[word_in],:])\n",
    "    asort = np.argsort(-sims)[:k+1]\n",
    "    return [(index_to_word[i],sims[i]) for i in asort[1:]]\n",
    "\n",
    "td_matrix_np = td_matrix.transpose().toarray()\n",
    "td_matrix_np = normalize(td_matrix_np)"
   ]
  },
  {
   "cell_type": "code",
   "execution_count": 14,
   "metadata": {},
   "outputs": [
    {
     "name": "stdout",
     "output_type": "stream",
     "text": [
      "Using SVD:\n",
      "sophisticated, 0.769\n",
      "matte, 0.768\n",
      "polished, 0.761\n",
      "vintage, 0.758\n",
      "embellishments, 0.752\n",
      "fashion, 0.748\n",
      "subtle, 0.737\n",
      "boho, 0.737\n",
      "vibe, 0.736\n",
      "eye, 0.734\n",
      "\n"
     ]
    }
   ],
   "source": [
    "word = 'chic'\n",
    "print(\"Using SVD:\")\n",
    "for w, sim in closest_words(word, words_compressed_normed):\n",
    "  try:\n",
    "    print(\"{}, {:.3f}\".format(w, sim))\n",
    "  except:\n",
    "    print(\"word not found\")\n",
    "print()\n",
    "#print(\"Without using SVD: using term-doc matrix directly:\")\n",
    "#for w, sim in closest_words(word, td_matrix_np):\n",
    "#  try:\n",
    "#    print(\"{}, {:.3f}\".format(w, sim))\n",
    "#  except:\n",
    "#    print(\"word not found\")\n",
    "#print()"
   ]
  },
  {
   "cell_type": "code",
   "execution_count": 15,
   "metadata": {},
   "outputs": [],
   "source": [
    "docs_compressed_normed = normalize(docs_compressed)\n",
    "\n",
    "# this is basically the same cosine similarity code that we used before, just with some changes to\n",
    "# the returned output format to let us print out the documents in a sensible way\n",
    "def closest_docs(doc_index_in, doc_repr_in, k = 5):\n",
    "    sims = doc_repr_in.dot(doc_repr_in[doc_index_in,:])\n",
    "    asort = np.argsort(-sims)[:k+1]\n",
    "    return [(documents[i],sims[i]) for i in asort[1:]]\n",
    "\n",
    "# Once again, basically the same cosine similarity code, but mixing two different matrices\n",
    "def closest_docs_to_word(word_in, k = 5):\n",
    "    if word_in not in word_to_index: return \"Not in vocab.\"\n",
    "    sims = docs_compressed_normed.dot(words_compressed_normed[word_to_index[word_in],:])\n",
    "    asort = np.argsort(-sims)[:k+1]\n",
    "    return [(i, documents[i],sims[i]) for i in asort[1:]]"
   ]
  },
  {
   "cell_type": "code",
   "execution_count": 16,
   "metadata": {},
   "outputs": [
    {
     "name": "stdout",
     "output_type": "stream",
     "text": [
      "(99770, Lightweight, breath well, plenty of cushion, fair price.  New Balance at it's best., 0.8893\n",
      "(126095, terrible price for some white underwear ! never will purchase again due to the cost.., 0.8868\n",
      "(225781, Gorgeous and best price around - found these for $100 more at a local retailer., 0.8835\n",
      "(243866, Get lots of laughs and the price and shipping were excellent., 0.8796\n",
      "(89193, Cutest show for awesome price! Couldn’t be happier with my purchase!, 0.8773\n"
     ]
    }
   ],
   "source": [
    "for i, doc, sim in closest_docs_to_word(\"bargain\"):\n",
    "    print(\"({}, {}, {:.4f}\".format(i, doc, sim))"
   ]
  },
  {
   "cell_type": "code",
   "execution_count": 17,
   "metadata": {},
   "outputs": [
    {
     "data": {
      "text/plain": [
       "(1, 4316)"
      ]
     },
     "execution_count": 17,
     "metadata": {},
     "output_type": "execute_result"
    }
   ],
   "source": [
    "query = \"party dress\"\n",
    "query_tfidf = vectorizer.transform([query]).toarray()\n",
    "query_tfidf.shape"
   ]
  },
  {
   "cell_type": "code",
   "execution_count": 18,
   "metadata": {},
   "outputs": [
    {
     "data": {
      "text/plain": [
       "(50,)"
      ]
     },
     "execution_count": 18,
     "metadata": {},
     "output_type": "execute_result"
    }
   ],
   "source": [
    "query_vec = normalize(np.dot(query_tfidf, words_compressed)).squeeze()\n",
    "query_vec.shape"
   ]
  },
  {
   "cell_type": "code",
   "execution_count": 19,
   "metadata": {},
   "outputs": [
    {
     "name": "stdout",
     "output_type": "stream",
     "text": [
      "(244592, So refreshing to put this dress on and go to some friends cookout, 0.9936\n",
      "(149983, Dress is see through and my under garments can be seen, 0.9931\n",
      "(174088, I Went To Church With This Wonderful Dress, So Many Comments!!, 0.9912\n",
      "(54051, I chose this as my mother of the groom dress. It was stunning., 0.9899\n",
      "(241097, And importantly it is lined. You can dress it up with heels or dress it down with a flip flop., 0.9899\n"
     ]
    }
   ],
   "source": [
    "def closest_docs_to_query(query_vec_in, k = 5):\n",
    "    sims = docs_compressed_normed.dot(query_vec_in)\n",
    "    asort = np.argsort(-sims)[:k+1]\n",
    "    return [(i, documents[i],sims[i]) for i in asort[1:]]\n",
    "\n",
    "for i, doc, sim in closest_docs_to_query(query_vec):\n",
    "    print(\"({}, {}, {:.4f}\".format(i, doc, sim))"
   ]
  },
  {
   "cell_type": "code",
   "execution_count": 19,
   "metadata": {},
   "outputs": [
    {
     "name": "stdout",
     "output_type": "stream",
     "text": [
      "Top words in dimension 0\n",
      "['big', 'long', 'light', 'earrings', 'super', 'weight', 'old', 'expected', 'large', 'year']\n",
      "\n",
      "Top words in dimension 1\n",
      "['shoe', 'buy', 'time', 'large', 'expected', 'look', 'recommend', 'got', 'thought', 'jacket']\n",
      "\n",
      "Top words in dimension 2\n",
      "['price', 'long', 'time', 'ordered', 'old', 'year', 'bought', 'soft', 'expected', 'happy']\n",
      "\n",
      "Top words in dimension 3\n",
      "['got', 'colors', 'looks', 'compliments', 'expected', 'husband', 'super', 'happy', 'comfy', 'wallet']\n",
      "\n",
      "Top words in dimension 4\n",
      "['looks', 'big', 'buy', 'soft', 'expected', 'way', 'perfect', 'look', 'hat', 'boots']\n",
      "\n",
      "Top words in dimension 5\n",
      "['long', 'buy', 'loves', 'time', 'feet', 'super', 'bag', 'comfy', 'boots', 'length']\n",
      "\n",
      "Top words in dimension 6\n",
      "['expected', 'gift', 'colors', 'shorts', 'loved', 'fabric', 'long', 'like', 'ordered', 'light']\n",
      "\n",
      "Top words in dimension 7\n",
      "['got', 'bag', 'long', 'loved', 'big', 'fits', 'perfectly', 'quality', 'old', 'shorts']\n",
      "\n",
      "Top words in dimension 8\n",
      "['price', 'expected', 'bag', 'bra', 'got', 'comfy', 'pair', 'super', 'fabric', 'like']\n",
      "\n",
      "Top words in dimension 9\n",
      "['wallet', 'pair', 'shorts', 'pretty', 'cards', 'bit', '34', 'long', 'leather', 'jeans']\n",
      "\n",
      "Top words in dimension 10\n",
      "['looks', 'bag', 'pair', 'shoe', 'fabric', 'pretty', 'expected', 'quality', 'bit', 'light']\n",
      "\n",
      "Top words in dimension 11\n",
      "['quality', 'bra', 'material', 'color', 'recommend', 'pretty', 'hat', 'work', 'pants', 'thought']\n",
      "\n",
      "Top words in dimension 12\n",
      "['looks', 'price', 'buy', 'bra', 'got', '34', 'comfortable', 'gift', 'pants', 'long']\n",
      "\n",
      "Top words in dimension 13\n",
      "['shoe', 'fabric', 'loves', 'pretty', 'price', 'bit', 'colors', '34', 'thought', 'buy']\n",
      "\n",
      "Top words in dimension 14\n",
      "['look', 'large', 'gift', 'bought', 'comfortable', 'quality', 'ordered', 'bit', 'loved', '34']\n",
      "\n",
      "Top words in dimension 15\n",
      "['shoes', 'look', 'large', 'colors', 'bag', 'expected', 'earrings', 'buy', 'price', 'pretty']\n",
      "\n",
      "Top words in dimension 16\n",
      "['expected', 'small', 'fits', 'material', 'look', 'beautiful', 'pants', 'earrings', 'pretty', 'don']\n",
      "\n",
      "Top words in dimension 17\n",
      "['quality', 'just', 'expected', 'warm', 'wear', 'little', 'comfortable', 'color', 'watch', 'like']\n",
      "\n",
      "Top words in dimension 18\n",
      "['fabric', 'quality', 'pants', 'shoes', 'small', 'just', 'soft', 'beautiful', 'fits', 'recommend']\n",
      "\n",
      "Top words in dimension 19\n",
      "['pants', 'gift', 'ordered', 'expected', 'thought', 'like', 'little', 'pretty', 'large', 'feet']\n",
      "\n",
      "Top words in dimension 20\n",
      "['really', 'material', 'wear', 'soft', 'shoes', 'bought', 'watch', 'just', 'pretty', 'good']\n",
      "\n",
      "Top words in dimension 21\n",
      "['really', 'color', 'fits', 'pair', 'pants', 'little', 'comfortable', 'perfect', 'good', 'bought']\n",
      "\n",
      "Top words in dimension 22\n",
      "['loves', 'really', 'quality', 'ordered', 'got', 'wear', 'color', 'daughter', 'expected', 'beautiful']\n",
      "\n",
      "Top words in dimension 23\n",
      "['really', 'quality', 'perfect', 'price', 'just', 'bra', 'dress', 'buy', 'small', 'nice']\n",
      "\n",
      "Top words in dimension 24\n",
      "['just', 'pants', 'right', 'ordered', 'loves', 'got', 'watch', 'thought', 'really', 'work']\n",
      "\n",
      "Top words in dimension 25\n",
      "['perfect', 'small', 'pants', 'loves', 'comfortable', 'little', 'gift', 'shoes', 'socks', 'beautiful']\n",
      "\n",
      "Top words in dimension 26\n",
      "['fits', 'expected', 'socks', 'quality', 'perfectly', 'cute', 'comfortable', 'wear', 'nice', 'pants']\n",
      "\n",
      "Top words in dimension 27\n",
      "['color', 'ordered', 'price', 'pair', 'small', 'soft', 'perfect', 'material', 'watch', 'super']\n",
      "\n",
      "Top words in dimension 28\n",
      "['watch', 'dress', 'small', 'pants', 'shoes', 'loves', 'like', 'really', 'love', 'pockets']\n",
      "\n",
      "Top words in dimension 29\n",
      "['small', 'comfortable', 'bought', 'watch', 'soft', 'bra', 'fit', 'fits', 'large', 'little']\n",
      "\n",
      "Top words in dimension 30\n",
      "['watch', 'pants', 'little', 'size', 'fabric', 'true', 'price', 'dress', 'pair', 've']\n",
      "\n",
      "Top words in dimension 31\n",
      "['bag', 'comfortable', 'shirt', 'socks', 'wallet', 'size', 'like', 'really', 'purse', 'wear']\n",
      "\n",
      "Top words in dimension 32\n",
      "['watch', 'perfect', 'fit', 'time', 'comfortable', 'band', 'cute', 'size', 'true', 'easy']\n",
      "\n",
      "Top words in dimension 33\n",
      "['like', 'size', 'fits', 'dress', 'color', 'true', 'looks', 'bought', 'soft', 'loves']\n",
      "\n",
      "Top words in dimension 34\n",
      "['dress', 'perfect', 'bag', 'shoes', 'fits', 'use', 'pockets', 'wallet', 'warm', 'fabric']\n",
      "\n",
      "Top words in dimension 35\n",
      "['dress', 'nice', 'socks', 'fit', 'shirt', 'watch', 'beautiful', 'look', 'wear', 'gift']\n",
      "\n",
      "Top words in dimension 36\n",
      "['wear', 'comfortable', 'watch', 'good', 'time', 'pants', 'bought', 'fits', 'day', 'size']\n",
      "\n",
      "Top words in dimension 37\n",
      "['nice', 'fit', 'bought', 'pants', 'loves', 'perfect', 'comfortable', 'shoes', 'gift', 'pair']\n",
      "\n",
      "Top words in dimension 38\n",
      "['nice', 'great', 'cute', 'size', 'fits', 'dress', 'comfortable', 'wear', 'looks', 'true']\n",
      "\n",
      "Top words in dimension 39\n",
      "['dress', 'cute', 'bought', 'loves', 'shoes', 'daughter', 'loved', 'comfortable', 'gift', 'super']\n",
      "\n",
      "Top words in dimension 40\n",
      "['great', 'shoes', 'fit', 'like', 'look', 'pants', 'shoe', 'pockets', 'feel', 'bag']\n",
      "\n",
      "Top words in dimension 41\n",
      "['great', 'socks', 'fit', 'pants', 'warm', 'like', 'pockets', 'perfect', 'waist', 'just']\n",
      "\n",
      "Top words in dimension 42\n",
      "['shirt', 'great', 'shoes', 'like', 'watch', 'shoe', 'bought', 'loves', 'looks', 'husband']\n",
      "\n",
      "Top words in dimension 43\n",
      "['like', 'shirt', 'wear', 'really', 'comfortable', 'don', 'soft', 'just', 'shoes', 'socks']\n",
      "\n",
      "Top words in dimension 44\n",
      "['shirt', 'comfortable', 'fit', 'soft', 'socks', 'great', 'true', 'wear', 'fits', 'good']\n",
      "\n",
      "Top words in dimension 45\n",
      "['love', 'perfect', 'br', 'great', 'shirt', 'color', 'fits', 'colors', 'soft', 'super']\n",
      "\n",
      "Top words in dimension 46\n",
      "['size', 'small', 'ordered', 'large', 'medium', 'fit', 'true', 'order', 'big', 'tight']\n",
      "\n",
      "Top words in dimension 47\n",
      "['shoes', 'socks', 'feet', 'shoe', 'pair', 'comfortable', 'wear', 'foot', 'boots', 'size']\n",
      "\n",
      "Top words in dimension 48\n",
      "['love', 'size', 'great', 'fit', 'comfortable', 'perfect', 'wear', 'bought', 'like', 'just']\n",
      "\n",
      "Top words in dimension 49\n",
      "['pero', 'para', 'muy', 'que', 'en', 'los', 'le', 'es', 'las', 'mi']\n",
      "\n"
     ]
    }
   ],
   "source": [
    "for i in range(50):\n",
    "    print(\"Top words in dimension\", i)\n",
    "    dimension_col = words_compressed[:,i].squeeze()\n",
    "    asort = np.argsort(-dimension_col)\n",
    "    print([index_to_word[i] for i in asort[:10]])\n",
    "    print()"
   ]
  },
  {
   "cell_type": "code",
   "execution_count": 20,
   "metadata": {},
   "outputs": [
    {
     "data": {
      "text/plain": [
       "array([[-0.05712544,  0.08108019,  0.093178  , ...,  0.01351381,\n",
       "         0.10032322, -0.1444049 ],\n",
       "       [ 0.07979067,  0.13710227, -0.19384757, ...,  0.11549934,\n",
       "         0.17086275, -0.21025229],\n",
       "       [ 0.17007726,  0.03217325,  0.07851378, ..., -0.28545005,\n",
       "         0.18846378, -0.19528776],\n",
       "       ...,\n",
       "       [ 0.08409716,  0.2351125 , -0.17670408, ..., -0.20759504,\n",
       "         0.086183  , -0.08119134],\n",
       "       [-0.02402887, -0.01840428,  0.00538204, ...,  0.08541252,\n",
       "         0.06139807, -0.08374709],\n",
       "       [-0.064016  , -0.16738548, -0.02095376, ...,  0.0851267 ,\n",
       "         0.07496238, -0.09508865]])"
      ]
     },
     "execution_count": 20,
     "metadata": {},
     "output_type": "execute_result"
    }
   ],
   "source": [
    "docs_compressed_normed"
   ]
  }
 ],
 "metadata": {
  "kernelspec": {
   "display_name": "Python 3",
   "language": "python",
   "name": "python3"
  },
  "language_info": {
   "codemirror_mode": {
    "name": "ipython",
    "version": 3
   },
   "file_extension": ".py",
   "mimetype": "text/x-python",
   "name": "python",
   "nbconvert_exporter": "python",
   "pygments_lexer": "ipython3",
   "version": "3.9.10"
  }
 },
 "nbformat": 4,
 "nbformat_minor": 2
}
