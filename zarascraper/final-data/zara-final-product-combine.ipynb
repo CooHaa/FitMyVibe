{
 "cells": [
  {
   "cell_type": "code",
   "execution_count": 11,
   "id": "4ba21531",
   "metadata": {},
   "outputs": [],
   "source": [
    "import json\n",
    "import hashlib"
   ]
  },
  {
   "cell_type": "code",
   "execution_count": 12,
   "id": "2c70f80d",
   "metadata": {},
   "outputs": [],
   "source": [
    "def validate_description(description):\n",
    "    if not description:\n",
    "        return False\n",
    "    word_count = len(description.split())\n",
    "    return 10 <= word_count <= 30\n",
    "\n",
    "def generate_id(sku):\n",
    "    # Create consistent ID from SKU\n",
    "    return int(hashlib.md5(sku.encode()).hexdigest(), 16) % (10 ** 8)\n",
    "\n",
    "def reformat_zara_item(article):\n",
    "    if not article.get('structuredData'):\n",
    "        return None\n",
    "        \n",
    "    structured = article['structuredData']\n",
    "    \n",
    "    # Skip if description doesn't meet word count criteria\n",
    "    if not validate_description(structured.get('description', '')):\n",
    "        return None\n",
    "        \n",
    "    reformatted = {\n",
    "        \"ID\": generate_id(structured.get('sku', '0')),\n",
    "        \"name\": structured.get('name', ''),\n",
    "        \"description\": structured.get('description', ''),\n",
    "        \"category\": f\"Women/{article.get('category', '')}\",\n",
    "        \"brand\": \"Zara\",\n",
    "        \"gender\": \"f\",\n",
    "        \"price\": str(structured.get('offers', {}).get('price', '')),\n",
    "        \"prodLink\": article.get('url', ''),\n",
    "        \"prodImgLink\": structured.get('image', '')\n",
    "    }\n",
    "    \n",
    "    return reformatted"
   ]
  },
  {
   "cell_type": "code",
   "execution_count": 13,
   "id": "1dc21f10",
   "metadata": {},
   "outputs": [
    {
     "ename": "TypeError",
     "evalue": "'NoneType' object does not support item assignment",
     "output_type": "error",
     "traceback": [
      "\u001b[0;31m---------------------------------------------------------------------------\u001b[0m",
      "\u001b[0;31mTypeError\u001b[0m                                 Traceback (most recent call last)",
      "Cell \u001b[0;32mIn[13], line 13\u001b[0m\n\u001b[1;32m     11\u001b[0m         \u001b[38;5;28;01mfor\u001b[39;00m article \u001b[38;5;129;01min\u001b[39;00m json_read:\n\u001b[1;32m     12\u001b[0m             article \u001b[38;5;241m=\u001b[39m reformat_zara_item(article)\n\u001b[0;32m---> 13\u001b[0m             \u001b[43marticle\u001b[49m\u001b[43m[\u001b[49m\u001b[38;5;124;43m'\u001b[39;49m\u001b[38;5;124;43mgender\u001b[39;49m\u001b[38;5;124;43m'\u001b[39;49m\u001b[43m]\u001b[49m \u001b[38;5;241m=\u001b[39m \u001b[38;5;124m\"\u001b[39m\u001b[38;5;124mm\u001b[39m\u001b[38;5;124m\"\u001b[39m\n\u001b[1;32m     14\u001b[0m             processed_jsons\u001b[38;5;241m.\u001b[39mappend(article)\n\u001b[1;32m     16\u001b[0m \u001b[38;5;28;01mfor\u001b[39;00m womens_json \u001b[38;5;129;01min\u001b[39;00m womens_source_jsons:\n",
      "\u001b[0;31mTypeError\u001b[0m: 'NoneType' object does not support item assignment"
     ]
    }
   ],
   "source": [
    "mens_source_jsons = [\"mens-all-products.json\"]\n",
    "womens_source_jsons = [\"women-best-sellers-products.json\"]\n",
    "\n",
    "with open(\"final-zara-data.json\", \"w\") as final_file:\n",
    "    processed_jsons = []\n",
    "\n",
    "    for mens_json in mens_source_jsons:\n",
    "        with open(\"mens-all-products.json\", \"r\") as f:\n",
    "            json_read = json.load(f)\n",
    "            \n",
    "            for article in json_read:\n",
    "                article = reformat_zara_item(article)\n",
    "                article['gender'] = \"m\"\n",
    "                processed_jsons.append(article)\n",
    "\n",
    "    for womens_json in womens_source_jsons:\n",
    "        with open(f\"womens-best-sellers-products.json\", \"r\") as f:\n",
    "            json_read = json.load(f)\n",
    "            \n",
    "            for article in json_read:\n",
    "                article = reformat_zara_item(article)\n",
    "                article['gender'] = \"f\"\n",
    "                processed_jsons.append(article)\n",
    "    \n",
    "    final_file.write(json.dumps(processed_jsons, indent=4))"
   ]
  }
 ],
 "metadata": {
  "kernelspec": {
   "display_name": "4300env",
   "language": "python",
   "name": "python3"
  },
  "language_info": {
   "codemirror_mode": {
    "name": "ipython",
    "version": 3
   },
   "file_extension": ".py",
   "mimetype": "text/x-python",
   "name": "python",
   "nbconvert_exporter": "python",
   "pygments_lexer": "ipython3",
   "version": "3.9.12"
  }
 },
 "nbformat": 4,
 "nbformat_minor": 5
}
