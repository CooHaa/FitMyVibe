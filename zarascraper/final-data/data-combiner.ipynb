{
 "cells": [
  {
   "cell_type": "code",
   "execution_count": 2,
   "metadata": {},
   "outputs": [
    {
     "name": "stdout",
     "output_type": "stream",
     "text": [
      "Combined 62 items from final-mens-best-sellers.json and 120 items from final-womens-best-sellers.json\n",
      "Total of 182 items saved to combined_clothing_dataset.json\n"
     ]
    }
   ],
   "source": [
    "import json\n",
    "\n",
    "def combine_two_datasets(file1, file2):\n",
    "    with open(file1, 'r') as f:\n",
    "        dataset1 = json.load(f)\n",
    "    \n",
    "    with open(file2, 'r') as f:\n",
    "        dataset2 = json.load(f)\n",
    "    \n",
    "    start_id = len(dataset1)\n",
    "    for i, item in enumerate(dataset2):\n",
    "        item[\"ID\"] = start_id + i\n",
    "    \n",
    "    combined_data = dataset1 + dataset2\n",
    "    \n",
    "    with open('combined_clothing_dataset.json', 'w') as f:\n",
    "        json.dump(combined_data, f, indent=2)\n",
    "    \n",
    "    print(f\"Combined {len(dataset1)} items from {file1} and {len(dataset2)} items from {file2}\")\n",
    "    print(f\"Total of {len(combined_data)} items saved to combined_clothing_dataset.json\")\n",
    "\n",
    "file1 = \"final-mens-best-sellers.json\"\n",
    "file2 = \"final-womens-best-sellers.json\"\n",
    "\n",
    "combine_two_datasets(file1, file2)"
   ]
  }
 ],
 "metadata": {
  "kernelspec": {
   "display_name": "venv",
   "language": "python",
   "name": "python3"
  },
  "language_info": {
   "codemirror_mode": {
    "name": "ipython",
    "version": 3
   },
   "file_extension": ".py",
   "mimetype": "text/x-python",
   "name": "python",
   "nbconvert_exporter": "python",
   "pygments_lexer": "ipython3",
   "version": "3.13.3"
  }
 },
 "nbformat": 4,
 "nbformat_minor": 2
}
