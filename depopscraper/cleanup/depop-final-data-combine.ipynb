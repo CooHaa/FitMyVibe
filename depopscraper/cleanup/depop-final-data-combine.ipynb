{
 "cells": [
  {
   "cell_type": "code",
   "execution_count": 9,
   "id": "848409d2",
   "metadata": {},
   "outputs": [],
   "source": [
    "import json\n",
    "\n",
    "mens_source_jsons = [\"new-depop-mens-accessories.json\", \"new-depop-mens-bottoms2.json\", \"new-depop-mens-shoes.json\",\n",
    "                \"new-depop-mens-tops.json\"]\n",
    "womens_source_jsons = [\"new-depop-womens-accessories.json\", \"new-depop-womens-bottoms.json\",\n",
    "                \"new-depop-womens-shoes.json\", \"new-depop-womens-tops.json\"]\n",
    "\n",
    "with open(\"final-depop-data.json\", \"w\") as final_file:\n",
    "\n",
    "    processed_jsons = []\n",
    "\n",
    "    for mens_json in mens_source_jsons:\n",
    "        with open(f\"new final data/{mens_json}\", \"r\") as f:\n",
    "            json_read = json.load(f)\n",
    "\n",
    "            for article in json_read:\n",
    "                article['gender'] = \"m\"\n",
    "                processed_jsons.append(article)\n",
    "\n",
    "    for womens_json in womens_source_jsons:\n",
    "        with open(f\"new final data/{womens_json}\", \"r\") as f:\n",
    "            json_read = json.load(f)\n",
    "            \n",
    "            for article in json_read:\n",
    "                article['gender'] = \"f\"\n",
    "                processed_jsons.append(article)\n",
    "    \n",
    "    final_file.write(json.dumps(processed_jsons, indent=4))"
   ]
  }
 ],
 "metadata": {
  "kernelspec": {
   "display_name": "fmv_env",
   "language": "python",
   "name": "python3"
  },
  "language_info": {
   "codemirror_mode": {
    "name": "ipython",
    "version": 3
   },
   "file_extension": ".py",
   "mimetype": "text/x-python",
   "name": "python",
   "nbconvert_exporter": "python",
   "pygments_lexer": "ipython3",
   "version": "3.11.4"
  }
 },
 "nbformat": 4,
 "nbformat_minor": 5
}
