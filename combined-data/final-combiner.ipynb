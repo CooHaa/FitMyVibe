{
 "cells": [
  {
   "cell_type": "code",
   "execution_count": 6,
   "metadata": {},
   "outputs": [
    {
     "name": "stdout",
     "output_type": "stream",
     "text": [
      "Combined 928 items from combined_clothing_dataset.json and 831 items from final-vestiaire-data.json\n",
      "Total of 1759 items saved to combined_clothing_dataset.json\n"
     ]
    }
   ],
   "source": [
    "import json\n",
    "\n",
    "def combine_two_datasets(file1, file2):\n",
    "    with open(file1, 'r') as f:\n",
    "        dataset1 = json.load(f)\n",
    "    \n",
    "    with open(file2, 'r') as f:\n",
    "        dataset2 = json.load(f)\n",
    "    \n",
    "    start_id = len(dataset1)\n",
    "    for i, item in enumerate(dataset2):\n",
    "        item[\"ID\"] = start_id + i\n",
    "    \n",
    "    combined_data = dataset1 + dataset2\n",
    "    \n",
    "    with open('COMBINED-FINAL.json', 'w') as f:\n",
    "        json.dump(combined_data, f, indent=2)\n",
    "    \n",
    "    print(f\"Combined {len(dataset1)} items from {file1} and {len(dataset2)} items from {file2}\")\n",
    "    print(f\"Total of {len(combined_data)} items saved to combined_clothing_dataset.json\")\n",
    "\n",
    "file1 = \"combined_clothing_dataset.json\"\n",
    "file2 = \"final-vestiaire-data.json\"\n",
    "\n",
    "combine_two_datasets(file1, file2)"
   ]
  }
 ],
 "metadata": {
  "kernelspec": {
   "display_name": "fmv_env",
   "language": "python",
   "name": "python3"
  },
  "language_info": {
   "codemirror_mode": {
    "name": "ipython",
    "version": 3
   },
   "file_extension": ".py",
   "mimetype": "text/x-python",
   "name": "python",
   "nbconvert_exporter": "python",
   "pygments_lexer": "ipython3",
   "version": "3.11.4"
  }
 },
 "nbformat": 4,
 "nbformat_minor": 2
}
