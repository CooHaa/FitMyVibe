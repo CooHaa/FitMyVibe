{
 "cells": [
  {
   "cell_type": "code",
   "execution_count": null,
   "id": "2b45dcb2",
   "metadata": {},
   "outputs": [],
   "source": [
    "import torch\n",
    "\n",
    "from safetensors.torch import load_file, save_file\n",
    "\n",
    "tensors = load_file(\"model.safetensors\")\n",
    "\n",
    "# Group into N chunks\n",
    "items = list(tensors.items())\n",
    "chunks = [dict(items[i:i+10]) for i in range(0, len(items), 10)]\n",
    "\n",
    "for i, chunk in enumerate(chunks):\n",
    "    save_file(chunk, f\"model_chunk_{i}.safetensors\")\n"
   ]
  }
 ],
 "metadata": {
  "kernelspec": {
   "display_name": "Python 3",
   "language": "python",
   "name": "python3"
  },
  "language_info": {
   "name": "python",
   "version": "3.9.10"
  }
 },
 "nbformat": 4,
 "nbformat_minor": 5
}
