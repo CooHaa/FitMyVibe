{
 "cells": [
  {
   "cell_type": "code",
   "execution_count": 2,
   "metadata": {},
   "outputs": [
    {
     "name": "stdout",
     "output_type": "stream",
     "text": [
      "Successfully loaded dataset with 1333 entries\n",
      "Sample of the first entry: y2k western american floral cowbow 6597\n",
      "Original dataset: 1333 entries\n",
      "After removing duplicates: 1249 entries\n",
      "Removed 84 duplicate entries\n",
      "Deduplicated data written to COMBINED-FINAL-DEDUPED-CLEAN.json\n"
     ]
    }
   ],
   "source": [
    "import json\n",
    "\n",
    "file_path = 'COMBINED-FINAL-DEDUPED.json'\n",
    "output_file = 'COMBINED-FINAL-DEDUPED-CLEAN.json'\n",
    "\n",
    "try:\n",
    "    with open(file_path, 'r', encoding='utf-8') as f:\n",
    "        data = json.load(f)\n",
    "    \n",
    "    print(f\"Successfully loaded dataset with {len(data)} entries\")\n",
    "    print(f\"Sample of the first entry: {data[0]['name']}\")\n",
    "    \n",
    "    unique_products = {}\n",
    "    duplicate_count = 0\n",
    "    \n",
    "    for product in data:\n",
    "        prod_link = product.get('prodLink')\n",
    "        \n",
    "        if prod_link not in unique_products:\n",
    "            unique_products[prod_link] = product\n",
    "        else:\n",
    "            duplicate_count += 1\n",
    "    \n",
    "    unique_data = list(unique_products.values())\n",
    "    \n",
    "    print(f\"Original dataset: {len(data)} entries\")\n",
    "    print(f\"After removing duplicates: {len(unique_data)} entries\")\n",
    "    print(f\"Removed {duplicate_count} duplicate entries\")\n",
    "    \n",
    "    with open(output_file, 'w', encoding='utf-8') as f:\n",
    "        json.dump(unique_data, f, indent=4, ensure_ascii=False)\n",
    "        \n",
    "    print(f\"Deduplicated data written to {output_file}\")\n",
    "    \n",
    "except FileNotFoundError:\n",
    "    print(f\"Error: The file {file_path} was not found.\")\n",
    "except json.JSONDecodeError:\n",
    "    print(f\"Error: The file {file_path} is not valid JSON.\")\n",
    "except Exception as e:\n",
    "    print(f\"An error occurred: {str(e)}\")"
   ]
  }
 ],
 "metadata": {
  "kernelspec": {
   "display_name": "venv",
   "language": "python",
   "name": "python3"
  },
  "language_info": {
   "codemirror_mode": {
    "name": "ipython",
    "version": 3
   },
   "file_extension": ".py",
   "mimetype": "text/x-python",
   "name": "python",
   "nbconvert_exporter": "python",
   "pygments_lexer": "ipython3",
   "version": "3.13.3"
  }
 },
 "nbformat": 4,
 "nbformat_minor": 2
}
