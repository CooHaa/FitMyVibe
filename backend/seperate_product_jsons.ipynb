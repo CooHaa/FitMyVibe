{
 "cells": [
  {
   "cell_type": "code",
   "execution_count": 4,
   "id": "c2d5fa37",
   "metadata": {},
   "outputs": [],
   "source": [
    "import json\n",
    "import os"
   ]
  },
  {
   "cell_type": "code",
   "execution_count": 5,
   "id": "84383ef8",
   "metadata": {},
   "outputs": [],
   "source": [
    "INPUT_JSON = \"final-depop-data.json\"   # your input file containing a list of item‐dicts\n",
    "OUTPUT_DIR = \"seperate_json_test\"  # directory where the split files will go"
   ]
  },
  {
   "cell_type": "code",
   "execution_count": 6,
   "id": "7752c498",
   "metadata": {},
   "outputs": [
    {
     "name": "stdout",
     "output_type": "stream",
     "text": [
      "Wrote 214 items → seperate_json_test/f-0-50.json\n",
      "Wrote   5 items → seperate_json_test/f-51-100.json\n",
      "Wrote   2 items → seperate_json_test/f-101-150.json\n",
      "Wrote   0 items → seperate_json_test/f-151-200.json\n",
      "Wrote   0 items → seperate_json_test/f-201-250.json\n",
      "Wrote   0 items → seperate_json_test/f-251-300.json\n",
      "Wrote 271 items → seperate_json_test/m-0-50.json\n",
      "Wrote  10 items → seperate_json_test/m-51-100.json\n",
      "Wrote   3 items → seperate_json_test/m-101-150.json\n",
      "Wrote   0 items → seperate_json_test/m-151-200.json\n",
      "Wrote   0 items → seperate_json_test/m-201-250.json\n",
      "Wrote   2 items → seperate_json_test/m-251-300.json\n"
     ]
    }
   ],
   "source": [
    "price_ranges = [\n",
    "    (0,   50),\n",
    "    (51,  100),\n",
    "    (101, 150),\n",
    "    (151, 200),\n",
    "    (201, 250),\n",
    "    (251, 300),\n",
    "]\n",
    "\n",
    "# make sure output directory exists\n",
    "os.makedirs(OUTPUT_DIR, exist_ok=True)\n",
    "\n",
    "# load master list\n",
    "with open(INPUT_JSON, 'r', encoding='utf-8') as f:\n",
    "    items = json.load(f)\n",
    "\n",
    "# normalize price to float, collect genders\n",
    "for item in items:\n",
    "    try:\n",
    "        item['price'] = float(item['price'])\n",
    "    except ValueError:\n",
    "        # if price is malformed, skip the item\n",
    "        continue # item['price'] = None\n",
    "\n",
    "genders = sorted({ item.get('gender') for item in items if item.get('gender') is not None })\n",
    "\n",
    "for gender in genders:\n",
    "    for low, high in price_ranges:\n",
    "        subset = [\n",
    "            itm for itm in items\n",
    "            if itm.get('gender') == gender\n",
    "               and itm.get('price') is not None\n",
    "               and low <= itm['price'] <= high\n",
    "        ]\n",
    "        # skip empty sets if you like, or write empty files\n",
    "        filename = f\"{gender}-{low}-{high}.json\"\n",
    "        path = os.path.join(OUTPUT_DIR, filename)\n",
    "        with open(path, 'w', encoding='utf-8') as out:\n",
    "            json.dump(subset, out, ensure_ascii=False, indent=2)\n",
    "\n",
    "        print(f\"Wrote {len(subset):3d} items → {path}\")"
   ]
  }
 ],
 "metadata": {
  "kernelspec": {
   "display_name": "4300env",
   "language": "python",
   "name": "python3"
  },
  "language_info": {
   "codemirror_mode": {
    "name": "ipython",
    "version": 3
   },
   "file_extension": ".py",
   "mimetype": "text/x-python",
   "name": "python",
   "nbconvert_exporter": "python",
   "pygments_lexer": "ipython3",
   "version": "3.9.12"
  }
 },
 "nbformat": 4,
 "nbformat_minor": 5
}
