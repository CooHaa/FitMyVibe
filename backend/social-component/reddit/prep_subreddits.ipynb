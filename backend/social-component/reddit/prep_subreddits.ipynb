{
 "cells": [
  {
   "cell_type": "code",
   "execution_count": 1,
   "metadata": {},
   "outputs": [],
   "source": [
    "from IPython.display import HTML, display\n",
    "\n",
    "def set_css(*args, **kwargs):\n",
    "    display(HTML('''\n",
    "    <style>\n",
    "        pre {\n",
    "            white-space: pre-wrap;\n",
    "        }\n",
    "    </style>\n",
    "    '''))\n",
    "    \n",
    "get_ipython().events.register('pre_run_cell', set_css)"
   ]
  },
  {
   "cell_type": "code",
   "execution_count": 2,
   "metadata": {},
   "outputs": [
    {
     "data": {
      "text/html": [
       "\n",
       "    <style>\n",
       "        pre {\n",
       "            white-space: pre-wrap;\n",
       "        }\n",
       "    </style>\n",
       "    "
      ],
      "text/plain": [
       "<IPython.core.display.HTML object>"
      ]
     },
     "metadata": {},
     "output_type": "display_data"
    }
   ],
   "source": [
    "from convokit import Corpus\n",
    "from dataclasses import dataclass\n",
    "from typing import List\n",
    "from functools import reduce\n",
    "from pathlib import Path\n",
    "\n",
    "\n",
    "base = Path(\"fashion-corpora\")\n",
    "corpora = [Corpus(str(p)) \n",
    "           for p in base.iterdir() \n",
    "           if p.is_dir() and p.suffix == \".corpus\"]\n",
    "\n",
    "\n",
    "texts, ids = [], []\n",
    "for c in corpora:\n",
    "    #print()\n",
    "    #print(c)\n",
    "    for utt in c.iter_utterances():\n",
    "        #print(utt)\n",
    "        if utt.text and utt.text.strip():\n",
    "            convo = utt.get_conversation()\n",
    "            doc = utt.text\n",
    "            texts.append(doc)\n",
    "            ids.append(utt.id)\n",
    "\n",
    "import re\n",
    "\n",
    "def clean_text(s: str) -> str:\n",
    "    s = re.sub(r'\\[deleted\\]|\\[removed\\]', '', s, flags=re.IGNORECASE)\n",
    "    s = re.sub(r'&amp;?', '', s)\n",
    "    s = s.replace('\\n', ' ')\n",
    "    s = re.sub(r'\\s+', ' ', s)\n",
    "    return s.strip()\n",
    "\n",
    "clean_texts = list(filter(None, [clean_text(t) for t in texts]))\n"
   ]
  },
  {
   "cell_type": "code",
   "execution_count": 4,
   "metadata": {},
   "outputs": [
    {
     "data": {
      "text/html": [
       "\n",
       "    <style>\n",
       "        pre {\n",
       "            white-space: pre-wrap;\n",
       "        }\n",
       "    </style>\n",
       "    "
      ],
      "text/plain": [
       "<IPython.core.display.HTML object>"
      ]
     },
     "metadata": {},
     "output_type": "display_data"
    },
    {
     "name": "stdout",
     "output_type": "stream",
     "text": [
      "Collecting sentence-transformers\n",
      "  Using cached sentence_transformers-4.1.0-py3-none-any.whl.metadata (13 kB)\n",
      "Requirement already satisfied: transformers<5.0.0,>=4.41.0 in /Users/juliakundu/.pyenv/versions/convokit-py312/lib/python3.12/site-packages (from sentence-transformers) (4.51.3)\n",
      "Requirement already satisfied: tqdm in /Users/juliakundu/.pyenv/versions/convokit-py312/lib/python3.12/site-packages (from sentence-transformers) (4.67.1)\n",
      "Requirement already satisfied: torch>=1.11.0 in /Users/juliakundu/.pyenv/versions/convokit-py312/lib/python3.12/site-packages (from sentence-transformers) (2.6.0)\n",
      "Requirement already satisfied: scikit-learn in /Users/juliakundu/.pyenv/versions/convokit-py312/lib/python3.12/site-packages (from sentence-transformers) (1.6.1)\n",
      "Requirement already satisfied: scipy in /Users/juliakundu/.pyenv/versions/convokit-py312/lib/python3.12/site-packages (from sentence-transformers) (1.15.2)\n",
      "Requirement already satisfied: huggingface-hub>=0.20.0 in /Users/juliakundu/.pyenv/versions/convokit-py312/lib/python3.12/site-packages (from sentence-transformers) (0.30.2)\n",
      "Requirement already satisfied: Pillow in /Users/juliakundu/.pyenv/versions/convokit-py312/lib/python3.12/site-packages (from sentence-transformers) (11.2.1)\n",
      "Requirement already satisfied: typing_extensions>=4.5.0 in /Users/juliakundu/.pyenv/versions/convokit-py312/lib/python3.12/site-packages (from sentence-transformers) (4.13.2)\n",
      "Requirement already satisfied: filelock in /Users/juliakundu/.pyenv/versions/convokit-py312/lib/python3.12/site-packages (from huggingface-hub>=0.20.0->sentence-transformers) (3.18.0)\n",
      "Requirement already satisfied: fsspec>=2023.5.0 in /Users/juliakundu/.pyenv/versions/convokit-py312/lib/python3.12/site-packages (from huggingface-hub>=0.20.0->sentence-transformers) (2024.12.0)\n",
      "Requirement already satisfied: packaging>=20.9 in /Users/juliakundu/.pyenv/versions/convokit-py312/lib/python3.12/site-packages (from huggingface-hub>=0.20.0->sentence-transformers) (25.0)\n",
      "Requirement already satisfied: pyyaml>=5.1 in /Users/juliakundu/.pyenv/versions/convokit-py312/lib/python3.12/site-packages (from huggingface-hub>=0.20.0->sentence-transformers) (6.0.2)\n",
      "Requirement already satisfied: requests in /Users/juliakundu/.pyenv/versions/convokit-py312/lib/python3.12/site-packages (from huggingface-hub>=0.20.0->sentence-transformers) (2.32.3)\n",
      "Requirement already satisfied: networkx in /Users/juliakundu/.pyenv/versions/convokit-py312/lib/python3.12/site-packages (from torch>=1.11.0->sentence-transformers) (3.4.2)\n",
      "Requirement already satisfied: jinja2 in /Users/juliakundu/.pyenv/versions/convokit-py312/lib/python3.12/site-packages (from torch>=1.11.0->sentence-transformers) (3.1.6)\n",
      "Requirement already satisfied: setuptools in /Users/juliakundu/.pyenv/versions/convokit-py312/lib/python3.12/site-packages (from torch>=1.11.0->sentence-transformers) (79.0.0)\n",
      "Requirement already satisfied: sympy==1.13.1 in /Users/juliakundu/.pyenv/versions/convokit-py312/lib/python3.12/site-packages (from torch>=1.11.0->sentence-transformers) (1.13.1)\n",
      "Requirement already satisfied: mpmath<1.4,>=1.1.0 in /Users/juliakundu/.pyenv/versions/convokit-py312/lib/python3.12/site-packages (from sympy==1.13.1->torch>=1.11.0->sentence-transformers) (1.3.0)\n",
      "Requirement already satisfied: numpy>=1.17 in /Users/juliakundu/.pyenv/versions/convokit-py312/lib/python3.12/site-packages (from transformers<5.0.0,>=4.41.0->sentence-transformers) (2.1.3)\n",
      "Requirement already satisfied: regex!=2019.12.17 in /Users/juliakundu/.pyenv/versions/convokit-py312/lib/python3.12/site-packages (from transformers<5.0.0,>=4.41.0->sentence-transformers) (2024.11.6)\n",
      "Requirement already satisfied: tokenizers<0.22,>=0.21 in /Users/juliakundu/.pyenv/versions/convokit-py312/lib/python3.12/site-packages (from transformers<5.0.0,>=4.41.0->sentence-transformers) (0.21.1)\n",
      "Requirement already satisfied: safetensors>=0.4.3 in /Users/juliakundu/.pyenv/versions/convokit-py312/lib/python3.12/site-packages (from transformers<5.0.0,>=4.41.0->sentence-transformers) (0.5.3)\n",
      "Requirement already satisfied: joblib>=1.2.0 in /Users/juliakundu/.pyenv/versions/convokit-py312/lib/python3.12/site-packages (from scikit-learn->sentence-transformers) (1.4.2)\n",
      "Requirement already satisfied: threadpoolctl>=3.1.0 in /Users/juliakundu/.pyenv/versions/convokit-py312/lib/python3.12/site-packages (from scikit-learn->sentence-transformers) (3.6.0)\n",
      "Requirement already satisfied: MarkupSafe>=2.0 in /Users/juliakundu/.pyenv/versions/convokit-py312/lib/python3.12/site-packages (from jinja2->torch>=1.11.0->sentence-transformers) (3.0.2)\n",
      "Requirement already satisfied: charset-normalizer<4,>=2 in /Users/juliakundu/.pyenv/versions/convokit-py312/lib/python3.12/site-packages (from requests->huggingface-hub>=0.20.0->sentence-transformers) (3.4.1)\n",
      "Requirement already satisfied: idna<4,>=2.5 in /Users/juliakundu/.pyenv/versions/convokit-py312/lib/python3.12/site-packages (from requests->huggingface-hub>=0.20.0->sentence-transformers) (3.10)\n",
      "Requirement already satisfied: urllib3<3,>=1.21.1 in /Users/juliakundu/.pyenv/versions/convokit-py312/lib/python3.12/site-packages (from requests->huggingface-hub>=0.20.0->sentence-transformers) (2.4.0)\n",
      "Requirement already satisfied: certifi>=2017.4.17 in /Users/juliakundu/.pyenv/versions/convokit-py312/lib/python3.12/site-packages (from requests->huggingface-hub>=0.20.0->sentence-transformers) (2025.1.31)\n",
      "Using cached sentence_transformers-4.1.0-py3-none-any.whl (345 kB)\n",
      "Installing collected packages: sentence-transformers\n",
      "Successfully installed sentence-transformers-4.1.0\n",
      "\n",
      "\u001b[1m[\u001b[0m\u001b[34;49mnotice\u001b[0m\u001b[1;39;49m]\u001b[0m\u001b[39;49m A new release of pip is available: \u001b[0m\u001b[31;49m24.3.1\u001b[0m\u001b[39;49m -> \u001b[0m\u001b[32;49m25.0.1\u001b[0m\n",
      "\u001b[1m[\u001b[0m\u001b[34;49mnotice\u001b[0m\u001b[1;39;49m]\u001b[0m\u001b[39;49m To update, run: \u001b[0m\u001b[32;49mpip install --upgrade pip\u001b[0m\n",
      "Note: you may need to restart the kernel to use updated packages.\n"
     ]
    }
   ],
   "source": [
    "%pip install -U sentence-transformers"
   ]
  },
  {
   "cell_type": "code",
   "execution_count": 7,
   "metadata": {},
   "outputs": [
    {
     "data": {
      "text/html": [
       "\n",
       "    <style>\n",
       "        pre {\n",
       "            white-space: pre-wrap;\n",
       "        }\n",
       "    </style>\n",
       "    "
      ],
      "text/plain": [
       "<IPython.core.display.HTML object>"
      ]
     },
     "metadata": {},
     "output_type": "display_data"
    },
    {
     "name": "stderr",
     "output_type": "stream",
     "text": [
      "huggingface/tokenizers: The current process just got forked, after parallelism has already been used. Disabling parallelism to avoid deadlocks...\n",
      "To disable this warning, you can either:\n",
      "\t- Avoid using `tokenizers` before the fork if possible\n",
      "\t- Explicitly set the environment variable TOKENIZERS_PARALLELISM=(true | false)\n"
     ]
    },
    {
     "name": "stdout",
     "output_type": "stream",
     "text": [
      "Collecting faiss-cpu\n",
      "  Downloading faiss_cpu-1.10.0-cp312-cp312-macosx_11_0_arm64.whl.metadata (4.4 kB)\n",
      "Requirement already satisfied: numpy<3.0,>=1.25.0 in /Users/juliakundu/.pyenv/versions/convokit-py312/lib/python3.12/site-packages (from faiss-cpu) (2.1.3)\n",
      "Requirement already satisfied: packaging in /Users/juliakundu/.pyenv/versions/convokit-py312/lib/python3.12/site-packages (from faiss-cpu) (25.0)\n",
      "Downloading faiss_cpu-1.10.0-cp312-cp312-macosx_11_0_arm64.whl (3.2 MB)\n",
      "\u001b[2K   \u001b[90m━━━━━━━━━━━━━━━━━━━━━━━━━━━━━━━━━━━━━━━━\u001b[0m \u001b[32m3.2/3.2 MB\u001b[0m \u001b[31m31.1 MB/s\u001b[0m eta \u001b[36m0:00:00\u001b[0m\n",
      "\u001b[?25hInstalling collected packages: faiss-cpu\n",
      "Successfully installed faiss-cpu-1.10.0\n",
      "\n",
      "\u001b[1m[\u001b[0m\u001b[34;49mnotice\u001b[0m\u001b[1;39;49m]\u001b[0m\u001b[39;49m A new release of pip is available: \u001b[0m\u001b[31;49m24.3.1\u001b[0m\u001b[39;49m -> \u001b[0m\u001b[32;49m25.0.1\u001b[0m\n",
      "\u001b[1m[\u001b[0m\u001b[34;49mnotice\u001b[0m\u001b[1;39;49m]\u001b[0m\u001b[39;49m To update, run: \u001b[0m\u001b[32;49mpip install --upgrade pip\u001b[0m\n",
      "Note: you may need to restart the kernel to use updated packages.\n"
     ]
    }
   ],
   "source": [
    "%pip install faiss-cpu"
   ]
  },
  {
   "cell_type": "code",
   "execution_count": 8,
   "metadata": {},
   "outputs": [
    {
     "data": {
      "text/html": [
       "\n",
       "    <style>\n",
       "        pre {\n",
       "            white-space: pre-wrap;\n",
       "        }\n",
       "    </style>\n",
       "    "
      ],
      "text/plain": [
       "<IPython.core.display.HTML object>"
      ]
     },
     "metadata": {},
     "output_type": "display_data"
    },
    {
     "name": "stderr",
     "output_type": "stream",
     "text": [
      "Batches: 100%|██████████| 4378/4378 [03:17<00:00, 22.19it/s] \n"
     ]
    },
    {
     "name": "stdout",
     "output_type": "stream",
     "text": [
      "0.895 — Chelsea boots. \n",
      "0.845 — Chelsea boots. Got it.\n",
      "\n",
      "\n",
      "0.845 — glamorous unique design of chelsea boots\n"
     ]
    }
   ],
   "source": [
    "from sentence_transformers import SentenceTransformer\n",
    "import numpy as np\n",
    "import faiss\n",
    "\n",
    "\n",
    "model = SentenceTransformer(\"all-MiniLM-L6-v2\")\n",
    "embs  = model.encode(texts, convert_to_numpy=True, show_progress_bar=True)\n",
    "\n",
    "norms = np.linalg.norm(embs, axis=1, keepdims=True)\n",
    "embs  = embs / np.clip(norms, 1e-8, None)\n",
    "\n",
    "dim   = embs.shape[1]\n",
    "index = faiss.IndexFlatIP(dim)  \n",
    "index.add(embs.astype(\"float32\"))\n",
    "\n"
   ]
  },
  {
   "cell_type": "code",
   "execution_count": 10,
   "metadata": {},
   "outputs": [
    {
     "data": {
      "text/html": [
       "\n",
       "    <style>\n",
       "        pre {\n",
       "            white-space: pre-wrap;\n",
       "        }\n",
       "    </style>\n",
       "    "
      ],
      "text/plain": [
       "<IPython.core.display.HTML object>"
      ]
     },
     "metadata": {},
     "output_type": "display_data"
    },
    {
     "name": "stdout",
     "output_type": "stream",
     "text": [
      "0.895 — Chelsea boots. \n",
      "0.845 — Chelsea boots. Got it.\n",
      "\n",
      "\n",
      "0.845 — glamorous unique design of chelsea boots\n",
      "0.764 — I love to wear Chelsea boots and this was more accurate than I expected.\n",
      "0.754 — Chelsea boots\n",
      "Description\n",
      "Also known as dealer boots, the Chelsea boots are tight fitting ankle length boots with low heels. They consist of two parts each made from a single piece of leather: the vamp and the quarters which meet near the ankle where they are joined by a strip of vulcanized rubber or elastic.  The elastic strip extends to just below the ankle but does not go all the way down to the sole. Instead of being sewn on top of each other, the vamp and quarters are sewn together in one plain below the ankle. The Chelsea boots have rounded toes just like the Jodhpur boots but the sewing techniques on them totally distinguish them.\n",
      "History\n",
      "The boot has Victorian roots to it. Its design and invention is attributed to J.Sparkes Hall the boot maker to Queen Victoria. Thanks to the inventor of the process of rubber vulcanization, J.Sparkes created a boot that could be easily slipped on and off. He was the first person to make an elastic sided ankle boot. The Chelsea boots were originally both men and women’s shoes. It is believed that the shoes were first used for walking and then later on used for horse riding. The boots made several appearances in movies and celebrity outfits like that of the Beatles. This made them become even more popular.\n",
      "Present Chelsea boots\n",
      "Today, the Chelsea boots are still considered as a classic piece due to their simple yet stylish appearance.  It is hardly impossible to go wrong with these boots. They can be dressed up, down and back again. The boots are a priceless item and exude class, charm and signal heritage.\n",
      "How to wear them\n",
      "The Chelsea boots are versatile, meaning that they be worn with both formal and casual attires.\n",
      "\tBlack Chelsea boots match perfectly with black and grey slim suits, chinos and flat front trousers. \n",
      "\tThe brown Chelsea boots would work with navy or grey suits, straight leg jeans.\n",
      "\tBulky Chelsea boots can be teamed up with boot cut jeans because of their size and are suitable for outdoor events and activities.\n",
      "\tThe short Chelsea boots are suitable for those who love the casual chic look. The boots are however slightly different from regular Chelsea boots. They are usually a little shorter, with their length coming up to just below the ankle.\n",
      "\tWingtip Chelsea boots can be worn with both jeans and formal attires. A hacking jacket or a tweed sports coat also nicely compliments the boots.\n",
      "With a variety of designs and colors, the Chelsea boots leave you spoilt for choice on which to for. They are all very fashionable and let you easily pull of your desired look. This a secret for that easy man that still wants to easily achieve the perfect look as they are very easy to match up.\n",
      "\n",
      "0.744 — Anyone here that can point me in the direction of a decent pair of chelsea boots for under $100? I've got a pair of Ben Sherman Artists that I nabbed for around $70 last year (heavily discounted, i believe) but I've worn them to hell already. I'd buy another of the same but it seems those are discontinued. Thanks.\n",
      "0.725 — i don't know what it's called, but if your looking for that style try \n",
      "\"chelsea boots\"\n",
      "0.716 — Beatle boots are Chelsea boots with a pointed toe and a Cuban heel.\n",
      "0.676 — Need a pretty pair of shoes for your New Years' Eve party? Chelsea shares her top 3 favorite heels. Read more.\n",
      "0.654 — Old saucy boots.\n",
      "0.650 — What boots are that?\n",
      "0.649 — What boots do you think?\n",
      "0.644 — What boots are those?\n",
      "0.642 — Vintage Ralph Lauren boots for $20!\n",
      "0.639 — What boots r those?\n",
      "0.635 — I cannot find these anywhere. I've been looking for 3 months now. Specifically, they look [like](http://booguloo.files.wordpress.com/2010/11/boots.jpg) [these.](http://api.ning.com/files/S-LjfNtD4hmyAHsSO9otzrFPxdoykG3gU1WbiuUCfm3v6dDIftegJcyt1e3QotWYOLfs0FvqYIXuxnZxPCQzEjIHcGjWL*zO/boots.jpg) \n",
      "It doesn't matter if they look a little different so long as they are black chelsea boots with a cuban heel. I have even found pinstriped ones that look nice, but again I could not find any that would fit me. I'd like not to go over $100. Used, new, doesn't matter. I'm desperate.\n",
      "0.629 — They’re also millwood boots\n",
      "0.627 — What boots are those? They look great.\n",
      "0.625 — Benhart's boots\n",
      "0.624 — Black skinny jeans, military-style boots. \n"
     ]
    }
   ],
   "source": [
    "def retrieve_similar_reviews(query: str, top_k: int = 5):\n",
    "    q_emb = model.encode([query], convert_to_numpy=True)\n",
    "    q_emb = q_emb / np.linalg.norm(q_emb, axis=1, keepdims=True)\n",
    "\n",
    "    scores, idxs = index.search(q_emb.astype(\"float32\"), top_k)\n",
    "    results = []\n",
    "    for sc, idx in zip(scores[0], idxs[0]):\n",
    "        results.append({\n",
    "            \"utterance_id\": ids[idx],\n",
    "            \"text\": texts[idx],\n",
    "            \"score\": float(sc)\n",
    "        })\n",
    "    return results\n",
    "\n",
    "for res in retrieve_similar_reviews(\"vintage chelsea boots\", top_k=20):\n",
    "    print(f\"{res['score']:.3f} — {res['text']}\")"
   ]
  }
 ],
 "metadata": {
  "kernelspec": {
   "display_name": "4300env",
   "language": "python",
   "name": "python3"
  },
  "language_info": {
   "codemirror_mode": {
    "name": "ipython",
    "version": 3
   },
   "file_extension": ".py",
   "mimetype": "text/x-python",
   "name": "python",
   "nbconvert_exporter": "python",
   "pygments_lexer": "ipython3",
   "version": "3.9.12"
  }
 },
 "nbformat": 4,
 "nbformat_minor": 2
}
