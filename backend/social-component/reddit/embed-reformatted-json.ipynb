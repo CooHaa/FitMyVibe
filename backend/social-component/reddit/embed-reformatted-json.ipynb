{
 "cells": [
  {
   "cell_type": "code",
   "execution_count": 28,
   "metadata": {},
   "outputs": [],
   "source": [
    "from convokit import Corpus\n",
    "from dataclasses import dataclass\n",
    "from typing import List\n",
    "from functools import reduce\n",
    "from pathlib import Path\n",
    "from sentence_transformers import SentenceTransformer\n",
    "import numpy as np\n",
    "import faiss"
   ]
  },
  {
   "cell_type": "code",
   "execution_count": 29,
   "metadata": {},
   "outputs": [],
   "source": [
    "model = SentenceTransformer(\"sentence-transformers/msmarco-distilbert-base-dot-prod-v3\")"
   ]
  },
  {
   "cell_type": "code",
   "execution_count": 30,
   "metadata": {},
   "outputs": [],
   "source": [
    "import re\n",
    "\n",
    "def clean_text(s: str) -> str:\n",
    "    s = re.sub(r'\\[deleted\\]|\\[removed\\]', '', s, flags=re.IGNORECASE)\n",
    "    s = re.sub(r'&amp;?', '', s)\n",
    "    s = s.replace('\\n', ' ')\n",
    "    s = re.sub(r'\\s+', ' ', s)\n",
    "    return s.strip()"
   ]
  },
  {
   "cell_type": "code",
   "execution_count": 31,
   "metadata": {},
   "outputs": [],
   "source": [
    "import json\n",
    "from pathlib import Path\n",
    "\n",
    "def load_mercari_json(path: Path):\n",
    "    \"\"\"\n",
    "    Load a JSON file where each element is expected to be a dict\n",
    "    with at least 'id' and 'description' fields.\n",
    "    \"\"\"\n",
    "    with path.open('r', encoding='utf-8') as f:\n",
    "        return json.load(f)\n",
    "\n",
    "def extract_texts_and_ids(data):\n",
    "    texts, ids = [], []\n",
    "    for item in data:\n",
    "        name = item.get('name', '')\n",
    "        # desc = item.get('description', '')\n",
    "        text = clean_text(name)\n",
    "        if text:\n",
    "            texts.append(text)\n",
    "            ids.append(item.get('ID'))\n",
    "    return texts, ids\n",
    "\n",
    "json_path = Path(\"reformatted-mercari-final.json\")\n",
    "data = load_mercari_json(json_path)\n",
    "\n",
    "texts, ids = extract_texts_and_ids(data)\n",
    "\n",
    "# apply your cleaning function and filter out any empty results\n",
    "clean_texts = [clean_text(t) for t in texts]\n",
    "clean_texts = [t for t in clean_texts if t]"
   ]
  },
  {
   "cell_type": "code",
   "execution_count": 32,
   "metadata": {},
   "outputs": [
    {
     "name": "stdout",
     "output_type": "stream",
     "text": [
      "['AVA-VIV Blouse', 'Acacia pacific tides santorini top', 'Girls cheer and tumbling bundle of 7', 'HOLD for Dogs2016 Minnetonka boots', 'Cream/ Beige Front Cross Shirt', 'NWT VS ULTIMATE SPORTS BRA 34ddd', 'Black and Red Baseball Tee', 'Forever21 floral romper strapless', 'Kendra bundle', 'Black Capri Leggings w/ Flowers One size', 'Under Armour maroon and gray shirt metal', 'Victoria secret 34 c corest top', 'tropical flower print bra from pink', \"Woman's north face puffer vest\", 'Brandy Melville Off Shoulder Crop Top', 'Lululemon wunder under crop', \"PINK by Victoria's Secret lace bandeau\", 'NWT Lularoe OS French bulldog leggings', 'High waist Levi jeans', 'Highwaist Distressed Denim Shorts', \"H&M Women's Long Horse Sweater\", '(M) Under Armour half zip jacket!', 'Black & Burgundy Bikini Bottoms', 'Maternity top bundle', \"Women's Espresso Pink Coral shirt XL\", 'Silver jeans size 11', 'Size 6 Watercolor Inspire Crop', 'Muscle t-shirt', 'Floral two Piece tracksuit set', 'Boots NWT 6.5', 'New Duck Boots sz.7.5', 'LuLaRoe OS leggings nwt!', \"Victoria's Secret PINK Zip Up Hoodie\", 'Halloween Sweater Shirt', 'XL dress with built in bra.', 'Miss me skinny jeans 26', 'Lularoe Disney Os Leggings TIGGER', 'Brandy melville lavender skirt', 'Adidas Superstar Sneakers', \"2BReal Girl's Boutique Dress w AdjStraps\", 'Sweater', 'LAUREN CONRAD PINK POLKA DOT BLOUSE', 'Teal Lululemon Sucba Zip up', \"Nike men's dri-fit sleeveless shirt tee\", 'New Lularoe Tc purple black siamese cats', \"New Xlg woman's sexy summer halter top\", 'Maternity Swim Top', 'Rue 21 Long Cardigan', 'VS PINK 1/2zip collared sz M', 'FREE SHIP NWT VS PINK L BOYSHORT', \"Victoria's Secret pink night shirt\", 'Tank Tops', 'Cherokee Purple XXSP Scrub Pants', 'Lularoe leggings sugar skulls', 'brand-new underwear', 'Under armour blue hoodie size small', 'Mesh/Velvet Bodysuit', 'Mori lee prom dress', 'HOLD Sherri hill prom black dress', 'PINK ultimate fit half zip', 'Banana Republic Leather Boots Size 9', 'Lularoe OS Leggings, Birds on a wire', 'Jessica Simpson off shoulder top small', 'Simply Southern Pink Preppy Long Sleeve', 'New York baseball hat', 'Adidas Womens Pink Size Large Zip Up', 'Boys puma T-shirt', 'Aztec Black and White Medium Dress', 'Forever 21 Pink Top', 'LuLaRoe OS hipster penguins', 'Free People \"Free Fallin\" V-Neck', 'FREE SHIP LuLaRoe OS Stork Leggings', 'Black booties', 'Free Shipping 38G Freya Bra', 'FREE SHIP beige silk tank top', 'Reduced Lularoe os woodland creatures', 'Nike dri fit leggings size small', 'Old Navy Jean Jacket', 'PINK Ultimate Yoga Leggings', '(M) 7 VS/VS PINK Items', 'NEW Coach Ray Outline Sig High Tops', 'Nike Pros', 'Miss me sz 28', 'Tory Burch Gladiator Sandals 6.5', 'H&M Polka Dot Nude Dress', 'LuLaRoe Halloween Frankenstein Leggings', '2-Mens XXL Cruise Ship T-Shirts NWOT', 'Express Peplum Top', \"Women's Nike Dri Fit Shorts\", 'New Adidas Baseball Cleats/Spikes/Shoes', 'North Face Polartec Fleece Jacket', 'Size Small Southern Boutique Tank', '3 new pairs pink socks and free ty gift', 'On hold for Angel', 'Brandy Melville Indian skull crop tank', 'Blue Flame Black bikini top Medium', 'VS PINK LOGO BAND BOYSHORTS', '2 Liz Lange maternity dresses new medium', \"Lululemon skinny women's pants size 6\", 'Camouflage Pants', 'Cozy Boots', \"Victoria's Secret Red/Coral Garter Skirt\", \"New NY Giants Women's Bling Jersey Top S\", 'NWT Lularoe 3XL Randy', 'Under Armour Tank', 'F21 satin bralettes sz medium', 'Michael Kors Sandals', \"2 pair men's superman socks. Free ship\", 'SZ 11 jeans', 'Black Velvet Skater Dress', 'Dress', 'Oversized Grey & Gold Las Vegas Shirt L', 'White capris', \"Victoria's Secret lounge sweatpants\", '\\'Garbage\" tee', 'Green Kappa Delta T Shirt', 'Black & White Market Blouse', 'Lularoe tall and curvy legging', 'Magic throwback Nick Anderson', 'Boutique top', '4T lot of shirts', 'BLACK DISTRESSED JEANS', 'Victoria Secret PINK Sweatpants', 'Kylie Jenner', 'Nightmare Before Christmas Hoodie', 'H&M womens XS hoodie', 'VS PINK full zip hoodie XS', \"Women's Converse All Star tennis shoes 7\", 'Blue Ombré Sequined Homecoming Dress', 'Peanut Butter Air Force One', 'UCLA sweatshirt - youth', 'Patagonia Tan Vest', 'Columbia Down Jacket', \"Bundle for Elle's boutique\", 'Strappy Tangerine/Orange Monokini', 'Banana Republic polo', 'Brandy Melville holo sticker bundle', 'Like new Nike shorts!', \"✨Girl's fur vest ✨size medium\", 'RAIDERS ZIP UP HOODIE', 'Burgandy snow flake leggings OS', '☆VS☆ 36dd DREAM ANGELS PUSHUP', 'Lularoe Julia/Jordan Athletic Pant', 'New lularoe Randy shirt sz m', \"New Unisex Converse Women's 11/Men's 9\", 'NWT Lularoe Tween Thunder Storm Leggings', \"NWT The North Face Women's Tundra FZ\", 'Nike set NWT. M', 'Supreme Script Beanie FW 2016', 'LuLaRoe OS Leggings', 'New Nike Benassi JDI', 'V-neck Tshirts Bundle', 'High Waisted Denim Distress Shorts', 'Jagger', 'Summer Dress', 'J. Crew Military Green rolled sleeve tee', 'Mens Plaid Button Up Shirt', 'Under Armour black compression shirt', 'Masters Visor Hat', 'Wildfox Couture SweetHeart Cutie shorts', 'Striped Sexy Dress', '3-6 month swim set', 'Off The Shoulder Top Small', 'Purple gymshark tank top', 'Sports Bra Bundle', 'The north face womens medium', 'Floral Torrid Shirt Size 2', '✨Soft Sateen Jeggings', 'Cage push up bralette', 'Mohawk Rabbit Fur & Fox Fur Vest', 'Ladies Size 2x chevron dress', 'VS Sport Short Sleeve Hoodie', 'Harem joggers', '6-9 months bundle', 'Rose Pink Lace Dress', 'Size 7 Black Forever 21 Sandals', 'Black Volcom tiered tank', 'UGG Bailey bow boots size 7', 'Zip up jacket', 'Bundle for Happy', \"Free Ship--Men's New Flojos Size 10\", 'NY & Co. Blouse', 'VS Pink Sandles Bundle', 'Fabrik Tie Dye Maxi Dress M NWT', 'CUTE BOOTIES', 'Affliction shirt', 'Cotton Embroidered Dress Never Worn', 'Off shoulder top xl', \"NWT L.A Idol Jean's Size 9\", '(36D) FS! victoria secret bra', 'Set of 4 skull underwear', 'Lularoe elegant Irma', 'Lularoe Halloween OS BN china', 'Baby Polo Button-up', 'FREE SHIP unicorn Lularoe cassie Skirt', 'Gray Sweater size S', 'Hollister Top', \"Women's bomber jacket size small\", 'Sales! ❤ ship out today! Logo Boyshorts', \"Victoria's Secret panty bundle\", 'Tween Lularoe Flowers', 'H&M Bikini', 'Strapless Maxi Dress NWT', \"Women's Columbia Jacket\", 'Koala Baby 0-3 Month Baby Boy Outfit', 'Wildfox no love no backstage pass hoodie', 'HOLD - HakunaMatata - Aero Ombré Legging', '2 brand new dolman style tops xl/2xl', 'Converse Chuck Taylor NAVY BLUE', 'namaste in bed tee shirt', 'Zip/button up jacket', \"Free ship! (6/7) Victoria's Secret Pink\", 'Black sparkly stretchy turtleneck', 'Oshkosh 3T lacy ivory top', 'Thrasher shirt (authentic)', 'Hayley Williams B&W Tripp Leather Jacket', 'NWT Off Shoulder Blouse', 'Boys Jordan Shirt & shorts', 'H&M one piece', 'Pink north face vest', 'Adidas sweatpants', 'Small NWT Detroit Tigers fitted tee', 'AEROPASTALE L WHITE BUTTON DOWN', 'VS Pink bling campus crew XS', 'Vineyard vines long sleeve', \"Girl's Apple bottom 3pc 18mth\", 'FREE SHIP button down top', 'Pink Pink T-Shirt', 'PRICE REDUCED!!! LuLaRoe Nicole size L', 'Mens lucky jeans size 38 x 32', 'Ivory Ella Ombre TShirt', 'Ombré Crewneck Sweatshirt S', 'Snake/Gold Tory Burch Miller Sandals 7.5', 'BRABD NEW Pink North Face girls hoody', 'Almost Famous Skinny Jeans', 'Lilly Pulitzer Pink Crochet Dress', 'PINK crop sweat pants', '*BUNDLE(S) VS PINK quarter zip jacket!', 'Urban Outfitters shirt!', 'Reversible handmade jumper/dress sz 2/3', 'Manny Ramirez Jersey', 'New authentic burberry shirt for men XL', 'Lularoe OS peeking Santa leggings.', 'Pretty Little Thing Bodycon Bardot Dress', 'BNWT LuLaRoe Gigi - Steel Blue Size M', 'Lululemon crops', 'Lot of LulaRoe OS leggings', 'Pali Hawaiian Jesus Sandals', 'Bundle', 'Victoria secret pink shirt bling size s', 'under armor fleece hoodie', 'Lululemon leggings size 6 Blue', 'VS PINK Strapless Bra', 'Blue Strappy Bikini - M', 'Brandy Melville Shorts', 'Lcd monitor asus 1080 full HD', 'Lularoe S Grey Sweater Joy NWT Free Ship', 'Grey converses', 'NWT- White Mesh Nike Tank', 'Lularoe Julia size L feathers', 'Black leather GAP cross over sandals', '(4) Lululemon wunder under crops!', 'Vineyard vines skirt', 'NWOT Purple grey northface hooded jacket', 'Hollister Sweatpants size M', 'Scrub pants', 'American eagle distressed skinny jeans', 'S/M Volcom Flexfit Hat!', 'Like New Lululemon Herringbone pullover', 'XL under armour joggers', 'Columbia girl coat 3t', 'Affliction Shirt Red Medium', \"Men's Vans Tank Top\", \"Men's TOMMY BAHAMA SHIRT L\", 'White Chuck Taylor Converse All Stars', 'adidas zip up', 'Queen Black Hoodie', 'TCP xs/4 3-in-1 winter jacket and scarf', 'WHBM Perfect Form Slim Ankle 2S Pants', 'Sequin & Mesh V-neck Romper', 'Kenneth Cole Reaction Bla Leather Jacket', 'NWT Buttery Soft Aztec Leggings Plus TC', 'Express Black Sheer Panel Midi Skirt', 'SINFUL by AFFLICTION WOMENS SHIRT SIZE L', 'Lularoe OS Clocks BNWOT black background', 'LARGE VS PINK BLING CAMPUS TEE SHIRT NWT', 'Lularoe OS leggings', 'White Beige Flower Blouse', 'Girl dress size 6x', 'Brown boots, size 7, like new', 'Last One New VS Beach Blanket / Towel', 'FINAL MARK DOWN TUK creepers', 'JACKY Zaful One Piece Palm Leaf Swimsuit', 'FREE SHIP American Eagle tshirt', 'Yankees jean shirt', 'American Eagle smiley jeans size 20', 'FREE SHIP CC Oversized Ivory+Black', 'Faux Fur Lined Jacket', 'Gilly Hicks Bralette Bundle', 'Reserved Bundle for Danae', 'Jessica Simpson maternity dress size M', 'Algeria shoes', 'Boots Rock & Republic Womens', 'UGG Beanie', 'LuLaRoe Irma XL NWT', 'Cashmere sweater, Charter Club, NWT (XL)', 'PINK Tennessee titans shirt', '4-pairs New VS Pink boyshort panties XS', '2pcs Leaf Bikini Swimsuit ✨', 'Black skater skirt', 'Hollister Blouse', 'VS PINK thong panty', 'Floral Kimono H&M size 12', \"Size L NWT Women's Nike Dri-fit Shorts\", 'NWOT LuLaRoe TC teal solid leggings', 'Bundle Boys Under Armour shorts', 'NEW VS cropped leggings', 'Victoria secret pink boyshort pantie', 'Just fab neon wedge sandals new', 'LL Bean Blue Plaid Winter Coat- Medium', 'Victoria Secret PINK Dress', 'Blush wavy lace halter bralette L-XL', 'Vintage cream paisley OS', 'Harley Davidson Lace Up Shirt MEDIUM', 'Black Lace Midi Dress', 'Lucky Lotus Hoodie Ladies XL Like New', 'New Nike top Girls 4t dri fi', 'Cream Satin Button Down Blouse NWT', 'REDUCED M open front Cardigan. FREE SHIP', 'Matilda Jane patisserie scrappy leggings', 'Lace bodysuit', \"Women's Plus Size\", 'Body by Victoria Wireless Bra 36B', 'XL mint cardigan NWT', 'Patagonia 2t sweater jacket', 'Last Chance!!', 'Lularoe TC Umbrella leggings', 'Long Sleeve Print Baseball Tee', 'Mens Ranger Boot by Polo Ralph Lauren', 'Torrid Floral Print Cross Front Tank Top', 'NWOT lularoe 2xl Randy', 'Lululemon Studio Racerback', 'Purple polo shirt', '#WOMENS ESSENTIAL TEE #NIKE SZ L', 'Ralph Lauren Cable-nit Fushia Sweater', '9 month Carters girls winter bundle', 'Active leggings', 'Ralph Lauren Beige Cap.', 'Under Armour Pink Pullover', 'Elle ruffle front top', 'VS PINK purple quarter zip', 'New! PINK Ringer Tee (M) !!!', 'Brandy Melville bundle', \"NWT Francesca's Eyelet Blue Blouse\", 'Lularoe Black TC Leggings', 'Patagonia vintage mens turtle fleece MED', 'Ivivva T-shirt', 'Dress', 'Lululemon speed shorts', 'Huf Shirt', 'Nike camo full leggings new', 'Jean capris', 'Nwt Urban Decay peep hole Sweater Nwt', 'Bundle for PINK', 'Victoria Secret Oversized Sweater', 'LulaRoe OS fox face legging', 'Black matte Hunter boots', \"Tom's desert booties\", \"Maurice's Shorts\", 'Timberland Boots Sz 8.5 Condition 8/10', 'Burgundy bathing suit', \"Men's Nike shirt\", 'Size M, 2-pk Seamless sport bras', 'LRG. Pjs bootie shorts fuzzy animal', 'NWT Lilly Pulitzer Lydia Dress', '2 Girls jackets', 'Sz M Pink Charlotte Russe cardigan', 'White wet seal scoop neck crop top', 'Purple Lace NWT 36DD Bra', 'Vs Pink Set Size M', 'Nursing cami tank large', \"Lot of 3 sexy Victoria's Secret bras\", 'Lane Bryant long sleeve 18/20 sweater', 'LULAROE BNWT NEW ROSES OS LEGGING', 'Free people shorts size 30', \"Victoria's Secret push up bras\", 'Dress L', 'Justice UA bundle girls size 10', 'Lularoe Medium Ombré Amelia', 'lularoe randy xxs', 'Cold Shoulder Blouse', '⚡️Sz L VS PINK Logo Boyshorts NWT', 'New print bikini', 'Embellished Shorts (2)', 'VS PINK grey mock neck sweatshirt (s)', 'Papaya Distressed Light Demin Shorts S', 'J. Crew DOUBLE BREASTED schoolboy blazer', 'Hollister hoodie', 'VS PINK Yoga Bundle', 'Grunge Jean jacket!', 'Rock Revival shorts size 25', 'Lululemon swiftly 4', 'Reebok Crossfit Chase Booty Shorts', 'Vans (Worn once)', 'Tube Top', 'Ladies long sleeve top', \"NEW Victoria's Secret Bikini Two Piece\", 'OS lularoe Planet leggings', 'Halloween Police costume/dress up', 'Brown faux leather booties', 'Mudd shirt', 'Black coverup', 'TOMS red suede wedge booties sz 9.5', 'NWOT LulaRoe OS solid green leggings', 'North Face Jacket', 'FreeShip NEW Mommy & Me floral palm set!', 'Black and Cream Striped Dress From Loft', 'Lularoe Classic T size Medium', 'XL Blouse', 'Hollister Skinny Jeans', 'Brown Heel Boots', \"Victoria's Secret PINK legging\", '1x Sonoma hooded/ zip up sweater.', 'Lularoe Halloween Leggings spiders OS', 'Vince Camuto Sandal heels', 'Skinny white jeans', 'Xhiliaration Floral ruffle bikini top', 'Victoria Secret Pink - Black Bralette', 'American eagle jeans', 'Michael Kors Boots', 'Bandeau Halter Bikini Set', 'Jessica Simpson Heeled Pump', 'Decree sandals size 10', '*BrandNew*Gymshark kaleidoscope leggings', 'Hollister med', 'Nike Shorts', 'VS PINK 3x tshirt bundle', \"Rainbows sandals women's!✔️\", 'Skull Cardigan (Small)', 'American eagle jeggings size 10', 'Cream Lace Dress', \"Women's dress slacks 16\", 'Sam and Libby Black Shoes', 'XS Madison', 'Steve Madden Simple Ankle Strap Heels', 'Purple Back Detail Workout Sports Bra', 'SALE H&M fitted blazer', 'VS PINK Univ. of Arkansas tshirt sz S', 'Vintage Nike Windbreaker', 'NWT OS Lularoe Disney Leggings', 'Backless Strapless Bra Size D Set of 2', 'FARRAH OFF THE SHOULDER DRESS', 'NWOT Gap 2t Dress. Purple and white.', 'Men adidas long pants. H', 'Glittery vans', 'NWOT Aryeh sunburst dress with zipper', 'Lularoe Large Classic T', 'NWT VS PINK FLAT LEGGING BLING', 'VSX Sports Bra', 'Bundle for Sherlyn :)', 'Sinful Shirt', 'PACK OF 2 CALVIN KLEIN THONGS', 'Timberland wedge heels', 'Bundle for pam', 'Forever21 sweatshirt', 'Nike goadome boots size 11', '3t lot girls clothes', 'Black bikini', 'HOLLISTER FREE SHIP FOR CATRINA', 'Victoria Secret Swim Bottoms', \"NEW Victoria's Secret PINK tee shirt\", 'Knee high boots', '36D victorias secret bra bundle of demis', 'Bra 2xl', 'Black Velvet Shorts', 'Red floral romper', 'Elephant 2 piece set', 'FLASH SALE NWT TC LULAROE TREE FROGS', 'Patagonia vest', 'Athletic leggings', 'Tommy Hilfiger', \"Victoria's Secret Bra 34d\", 'Gymshark Seamless Leggings Blueberry XS', 'LuLaRoe Randy XL', 'Fashion nova outfit', '5 Girls Polo/Uniform/Preppy Shirts', 'Dell 2in1 Inspiron 3000 Series Touch', 'Mens Birkenstock Sandals 44(11)', 'Kodak black hat *Lt.pink*', 'Maternity Jeans H&M dark blue', 'Black skinny jeans', 'Lululemon Studio (?) Pants 6', '(Xs) NWT VS PINK CAMPUS 3 TANK TOPs', 'New True religion jeans 29', \"Converse Size 6 Mens 8 Women's Galaxy\", 'Puma Rihanna Velvet Burgundy Creeper', 'VS SPORT LEGGINGS', 'Lularoe OS SKELETONS Halloween', 'VS PINK Hi-Neck Sports Bra', 'Lindsay LuLaRoe', \"Victoria's Secret bikini and crop top\", 'Navy Blue Cardigan Sweater', 'STUNNING lularoe roses amelia', 'Listing X2', \"Victoria's Secret PINK gray crew shirt\", 'Cute flower romper', 'Paradise Plus Tank', \"Victoria's secret Chicago Bears m shirt\", 'Lululemon shorts SZ 6', 'Floral Shorts', '3X- Highwaisted Aqua Bikini Set', 'THE NORTH FACE HALF-ZIP PULLOVER MENS XL', 'S Calvin Klein 3 Pc Grey Set', 'Rain Booties', 'Charolette ruse leggings', 'Rare victoria secret pink', \"A woman's place sweatshirt\", 'HOLDING for TMP Jam!', 'Black Jordans', 'NWT Polarn O. Pyret dress size 4-6', 'Black ripped shorts', 'Lularoe black floral carly dress', \"✨INC Men's Faux Leather Zip-Front Jacket\", 'Coral Maxi Dress', 'HOLD for Kbd716 thanks! Lululemon', 'Hand made dress', 'NWT Lularoe M Irma', 'Xhilaration Summer Dress', 'Girl 6-9 / 9 Month clothing', 'Volcom Size 9 Sound Check Jean Shorts']\n"
     ]
    }
   ],
   "source": [
    "print(clean_texts)"
   ]
  },
  {
   "cell_type": "code",
   "execution_count": 33,
   "metadata": {},
   "outputs": [
    {
     "name": "stdout",
     "output_type": "stream",
     "text": [
      "Size of ID list: 530\n"
     ]
    }
   ],
   "source": [
    "json_path = Path(\"reformatted-mercari-final.json\")\n",
    "with json_path.open(\"r\", encoding=\"utf-8\") as f:\n",
    "    records = json.load(f)\n",
    "\n",
    "ids = [r[\"ID\"] for r in records]\n",
    "print('Size of ID list: ' + str(len(ids)))"
   ]
  },
  {
   "cell_type": "code",
   "execution_count": 34,
   "metadata": {},
   "outputs": [
    {
     "name": "stderr",
     "output_type": "stream",
     "text": [
      "Batches: 100%|██████████| 17/17 [00:02<00:00,  6.18it/s]\n"
     ]
    }
   ],
   "source": [
    "import pandas as pd\n",
    "\n",
    "embs = model.encode(clean_texts, show_progress_bar=True)\n",
    "df = pd.DataFrame(embs, columns=[f\"dim{i}\" for i in range(len(embs[0]))])\n",
    "df.insert(0, \"id\", ids)  # if you want ids\n",
    "df.to_csv(\"mercari-embeddings.csv\", index=False)"
   ]
  }
 ],
 "metadata": {
  "kernelspec": {
   "display_name": "4300env",
   "language": "python",
   "name": "python3"
  },
  "language_info": {
   "codemirror_mode": {
    "name": "ipython",
    "version": 3
   },
   "file_extension": ".py",
   "mimetype": "text/x-python",
   "name": "python",
   "nbconvert_exporter": "python",
   "pygments_lexer": "ipython3",
   "version": "3.9.12"
  }
 },
 "nbformat": 4,
 "nbformat_minor": 2
}
