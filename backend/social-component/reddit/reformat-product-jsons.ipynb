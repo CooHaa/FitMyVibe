{
 "cells": [
  {
   "cell_type": "code",
   "execution_count": 1,
   "metadata": {},
   "outputs": [],
   "source": [
    "import json\n",
    "\n",
    "# IMPORT ORIGINAL JSON DATASET\n",
    "with open('mercari-set-final.json', 'r') as f:\n",
    "    data = json.load(f)"
   ]
  },
  {
   "cell_type": "code",
   "execution_count": 2,
   "metadata": {},
   "outputs": [],
   "source": [
    "# DEFINE CLOTHING FUNCTIONS\n",
    "def get_category_names(items):\n",
    "    \"\"\"\n",
    "    Given a list of dicts, return a list of all 'category_name' values.\n",
    "    \"\"\"\n",
    "    return [item.get(\"category_name\") for item in items]\n",
    "\n",
    "def get_unique_category_names(items):\n",
    "    \"\"\"\n",
    "    Given a list of dicts, return a list of all unique 'category_name' values.\n",
    "    \"\"\"\n",
    "    return list(set(get_category_names(items)))\n",
    "\n",
    "def get_clothing_categories(category_names):\n",
    "    \"\"\"\n",
    "    Filters the category names to only include clothing-related items.\n",
    "    \"\"\"\n",
    "    # Define a list of keywords related to clothing\n",
    "    clothing_keywords = [\"shirt\", \"pants\", \"dress\", \"jacket\", \"jeans\", \"sweater\", \"hoodie\", \"shorts\", \"skirt\", \"blouse\", \"coat\", \"suit\", \"t-shirt\", \"top\", \"clothing\", \"apparel\", 'accessory', 'footwear', 'activewear', 'outerwear', 'underwear', 'lingerie', 'swimwear', 'sneakers', 'boots', 'sandals', 'flip-flops', 'slippers', 'pajamas', 'loungewear', 'robe', 'jumpsuit', 'romper', 'overalls', 'leggings', 'tights', 'stockings', 'socks', 'scarf', 'hat', 'beanie', 'cap', 'gloves']\n",
    "\n",
    "    # Filter category names that contain any of the clothing-related keywords\n",
    "    clothing_categories = [category for category in category_names if any(keyword in category.lower() for keyword in clothing_keywords)]\n",
    "    \n",
    "    return clothing_categories"
   ]
  },
  {
   "cell_type": "code",
   "execution_count": 3,
   "metadata": {},
   "outputs": [
    {
     "name": "stdout",
     "output_type": "stream",
     "text": [
      "Total number of categories: 374\n",
      "Total number of clothing categories: 126\n"
     ]
    }
   ],
   "source": [
    "category_names = get_unique_category_names(data)\n",
    "print(\"Total number of categories:\", len(category_names))\n",
    "# print(category_names)\n",
    "\n",
    "clothing_categories = get_clothing_categories(category_names)\n",
    "print(\"Total number of clothing categories:\", len(clothing_categories))"
   ]
  },
  {
   "cell_type": "code",
   "execution_count": 4,
   "metadata": {},
   "outputs": [
    {
     "name": "stdout",
     "output_type": "stream",
     "text": [
      "Total number of clothing items: 530\n"
     ]
    }
   ],
   "source": [
    "def filter_and_reformat(data, clothing_categories):\n",
    "    \"\"\"\n",
    "    Filters items from the JSON data that belong to the clothing categories,\n",
    "    removes items with descriptions of fewer than 10 words, and reformats\n",
    "    the JSON attributes to the specified structure.\n",
    "    \"\"\"\n",
    "    reformatted_items = []\n",
    "    for item in data:\n",
    "        # Check if the category is in the clothing categories list\n",
    "        if item.get(\"category_name\", \"\").lower() not in [category.lower() for category in clothing_categories]:\n",
    "            continue\n",
    "\n",
    "        # Check if the description exists and has at least 10 words\n",
    "        description = item.get(\"item_description\", \"\")\n",
    "        if len(description.split()) < 10:\n",
    "            continue\n",
    "\n",
    "        # Set gender based on category name\n",
    "        if \"women\" in item.get(\"category_name\", \"\").lower() or \"girl\" in item.get(\"category_name\", \"\").lower() or \"womenswear\" in item.get(\"category_name\", \"\").lower(): \n",
    "            item[\"gender_from_category\"] = \"f\"\n",
    "        elif \"men\" in item.get(\"category_name\", \"\").lower() or \"boy\" in item.get(\"category_name\", \"\").lower() or \"menswear\" in item.get(\"category_name\", \"\").lower(): \n",
    "            item[\"gender_from_category\"] = \"m\"\n",
    "\n",
    "        # Reformat the item\n",
    "        reformatted_item = {\n",
    "            \"ID\": item.get(\"ID\"),\n",
    "            \"name\": item.get(\"name\"),\n",
    "            \"description\": description,\n",
    "            \"category\": item.get(\"category_name\", \"\"),\n",
    "            \"brand\": item.get(\"brand_name\", \"\"),\n",
    "            \"gender\": item.get(\"gender_from_category\", \"u\"), # Default to 'unisex' if 'gender' is missing\n",
    "            \"price\": item.get(\"price\"),\n",
    "            \"prodLink\": item.get(\"prodLink\", \"\"), \n",
    "            \"prodImgLink\": item.get(\"prodImgLink\", \"\")\n",
    "        }\n",
    "        reformatted_items.append(reformatted_item)\n",
    "    return reformatted_items\n",
    "\n",
    "new_json_list = filter_and_reformat(data, clothing_categories)\n",
    "print(\"Total number of clothing items:\", len(new_json_list))"
   ]
  },
  {
   "cell_type": "code",
   "execution_count": 5,
   "metadata": {},
   "outputs": [],
   "source": [
    "with open('reformatted-mercari-final.json', \"w\") as file:\n",
    "    json.dump(new_json_list, file, indent=4)"
   ]
  },
  {
   "cell_type": "code",
   "execution_count": 7,
   "metadata": {},
   "outputs": [],
   "source": [
    "# UPDATE PRODUCT IDS\n",
    "def update_product_ids(data):\n",
    "    \"\"\"\n",
    "    Updates the product IDs in the JSON data such that the first ID is 0,\n",
    "    and each subsequent ID increments by 1.\n",
    "    \"\"\"\n",
    "    for new_id, item in enumerate(data):\n",
    "        item[\"ID\"] = new_id  # Update the product ID\n",
    "    return data\n",
    "\n",
    "# Load the JSON data from the file\n",
    "input_file_path = \"reformatted-mercari-final.json\"\n",
    "with open(input_file_path, \"r\") as file:\n",
    "    data = json.load(file)\n",
    "\n",
    "# Update product IDs\n",
    "updated_data = update_product_ids(data)\n",
    "\n",
    "# Save the updated JSON data back to the same file\n",
    "with open(input_file_path, \"w\") as file:\n",
    "    json.dump(updated_data, file, indent=4)\n"
   ]
  },
  {
   "cell_type": "code",
   "execution_count": null,
   "metadata": {},
   "outputs": [
    {
     "name": "stdout",
     "output_type": "stream",
     "text": [
      "Appended 328 new items to new-mercari-set1.json.\n"
     ]
    }
   ],
   "source": [
    "# Function to append processed data to the existing JSON file\n",
    "def process_and_append_to_file(existing_file_path, new_file_path, clothing_categories):\n",
    "    \"\"\"\n",
    "    Processes a new JSON file, applies filtering and reformatting, and appends\n",
    "    the results to an existing JSON file without overwriting the previous data.\n",
    "    \"\"\"\n",
    "    # Step 1: Load the existing data from the existing file\n",
    "    try:\n",
    "        with open(existing_file_path, \"r\") as file:\n",
    "            existing_data = json.load(file)\n",
    "    except FileNotFoundError:\n",
    "        existing_data = []\n",
    "\n",
    "    # Step 2: Load the new data from the new file\n",
    "    with open(new_file_path, \"r\") as file:\n",
    "        new_data = json.load(file)\n",
    "\n",
    "    # Step 3: Process the new data using the filter_and_reformat function\n",
    "    processed_new_data = filter_and_reformat(new_data, clothing_categories)\n",
    "\n",
    "    # Step 4: Append the processed new data to the existing data\n",
    "    existing_data.extend(processed_new_data)\n",
    "\n",
    "    # Step 5: Save the combined data back to the existing file\n",
    "    with open(existing_file_path, \"w\") as file:\n",
    "        json.dump(existing_data, file, indent=4)\n",
    "\n",
    "    print(f\"Appended {len(processed_new_data)} new items to {existing_file_path}.\")\n",
    "\n",
    "# Example usage\n",
    "existing_file_path = \"new-mercari-set1.json\"\n",
    "new_file_path = \"mercari-set2.json\" \n",
    "process_and_append_to_file(existing_file_path, new_file_path, clothing_categories)"
   ]
  }
 ],
 "metadata": {
  "kernelspec": {
   "display_name": "4300env",
   "language": "python",
   "name": "python3"
  },
  "language_info": {
   "codemirror_mode": {
    "name": "ipython",
    "version": 3
   },
   "file_extension": ".py",
   "mimetype": "text/x-python",
   "name": "python",
   "nbconvert_exporter": "python",
   "pygments_lexer": "ipython3",
   "version": "3.9.12"
  }
 },
 "nbformat": 4,
 "nbformat_minor": 2
}
