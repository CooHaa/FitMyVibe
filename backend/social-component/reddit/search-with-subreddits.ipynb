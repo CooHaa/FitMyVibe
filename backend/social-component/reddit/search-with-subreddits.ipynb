{
 "cells": [
  {
   "cell_type": "code",
   "execution_count": 1,
   "metadata": {},
   "outputs": [],
   "source": [
    "from IPython.display import HTML, display\n",
    "\n",
    "def set_css(*args, **kwargs):\n",
    "    display(HTML('''\n",
    "    <style>\n",
    "        pre {\n",
    "            white-space: pre-wrap;\n",
    "        }\n",
    "    </style>\n",
    "    '''))\n",
    "    \n",
    "get_ipython().events.register('pre_run_cell', set_css)"
   ]
  },
  {
   "cell_type": "code",
   "execution_count": 8,
   "metadata": {},
   "outputs": [],
   "source": [
    "import re\n",
    "\n",
    "def clean_text(s: str) -> str:\n",
    "    s = re.sub(r'\\[deleted\\]|\\[removed\\]', '', s, flags=re.IGNORECASE)\n",
    "    s = re.sub(r'&amp;?', '', s)\n",
    "    s = s.replace('\\n', ' ')\n",
    "    s = re.sub(r'\\s+', ' ', s)\n",
    "    return s.strip()\n",
    "\n"
   ]
  },
  {
   "cell_type": "code",
   "execution_count": 3,
   "metadata": {},
   "outputs": [
    {
     "data": {
      "text/html": [
       "\n",
       "    <style>\n",
       "        pre {\n",
       "            white-space: pre-wrap;\n",
       "        }\n",
       "    </style>\n",
       "    "
      ],
      "text/plain": [
       "<IPython.core.display.HTML object>"
      ]
     },
     "metadata": {},
     "output_type": "display_data"
    },
    {
     "name": "stdout",
     "output_type": "stream",
     "text": [
      "Defaulting to user installation because normal site-packages is not writeable\n",
      "Requirement already satisfied: faiss-cpu in /Users/aerienhuang/Library/Python/3.9/lib/python/site-packages (1.10.0)\n",
      "Requirement already satisfied: numpy<3.0,>=1.25.0 in /Users/aerienhuang/Library/Python/3.9/lib/python/site-packages (from faiss-cpu) (2.0.2)\n",
      "Requirement already satisfied: packaging in /Library/Frameworks/Python.framework/Versions/3.9/lib/python3.9/site-packages (from faiss-cpu) (21.3)\n",
      "Requirement already satisfied: pyparsing!=3.0.5,>=2.0.2 in /Library/Frameworks/Python.framework/Versions/3.9/lib/python3.9/site-packages (from packaging->faiss-cpu) (3.0.7)\n",
      "Note: you may need to restart the kernel to use updated packages.\n"
     ]
    }
   ],
   "source": [
    "%pip install faiss-cpu"
   ]
  },
  {
   "cell_type": "code",
   "execution_count": 19,
   "metadata": {},
   "outputs": [],
   "source": [
    "from convokit import Corpus\n",
    "from dataclasses import dataclass\n",
    "from typing import List\n",
    "from functools import reduce\n",
    "from pathlib import Path\n",
    "from sentence_transformers import SentenceTransformer\n",
    "import numpy as np\n",
    "import faiss\n",
    "\n",
    "model = SentenceTransformer(\"fashion-bert-output-v2\")"
   ]
  },
  {
   "cell_type": "code",
   "execution_count": 12,
   "metadata": {},
   "outputs": [],
   "source": [
    "base = Path(\"fashion-corpora\")\n",
    "corpora = [Corpus(str(p)) \n",
    "           for p in base.iterdir() \n",
    "           if p.is_dir() and p.suffix == \".corpus\"]\n",
    "\n",
    "\n",
    "texts, ids = [], []\n",
    "for c in corpora:\n",
    "    #print()\n",
    "    #print(c)\n",
    "    for utt in c.iter_utterances():\n",
    "        #print(utt)\n",
    "        if utt.text and utt.text.strip():\n",
    "            convo = utt.get_conversation()\n",
    "            doc = utt.text\n",
    "            if len(doc.split()) >= 5:\n",
    "                texts.append(doc)\n",
    "                ids.append(utt.id)\n",
    "\n",
    "\n",
    "clean_texts = list(filter(None, [clean_text(t) for t in texts]))\n",
    "\n",
    "from sklearn.feature_extraction.text import TfidfVectorizer\n",
    "import pandas as pd\n",
    "\n",
    "def filter_distinctive_reviews(reviews, bottom_percentile=30):\n",
    "    vectorizer = TfidfVectorizer(stop_words='english', min_df=2)\n",
    "    tfidf_matrix = vectorizer.fit_transform(reviews)\n",
    "    tfidf_scores = tfidf_matrix.mean(axis=1).A1\n",
    "    threshold = np.percentile(tfidf_scores, bottom_percentile)\n",
    "    filtered_reviews = [rev for rev, score in zip(reviews, tfidf_scores) if score > threshold]\n",
    "\n",
    "    return filtered_reviews"
   ]
  },
  {
   "cell_type": "code",
   "execution_count": 13,
   "metadata": {},
   "outputs": [],
   "source": [
    "filtered_texts = filter_distinctive_reviews(clean_texts)"
   ]
  },
  {
   "cell_type": "code",
   "execution_count": 14,
   "metadata": {},
   "outputs": [
    {
     "data": {
      "text/plain": [
       "89115"
      ]
     },
     "execution_count": 14,
     "metadata": {},
     "output_type": "execute_result"
    }
   ],
   "source": [
    "len(texts)"
   ]
  },
  {
   "cell_type": "code",
   "execution_count": 20,
   "metadata": {},
   "outputs": [
    {
     "name": "stdout",
     "output_type": "stream",
     "text": [
      "Size of text list: 1511\n"
     ]
    }
   ],
   "source": [
    "import json\n",
    "\n",
    "json_path = Path(\"COMBINED-FINAL.json\")\n",
    "with json_path.open(\"r\", encoding=\"utf-8\") as f:\n",
    "    records = json.load(f)\n",
    "\n",
    "def extract_texts_and_ids(data):\n",
    "    p_texts, p_ids, p_metadata = [], [], []\n",
    "    for item in data:\n",
    "        product_id = item.get('ID')\n",
    "        if not product_id:\n",
    "            continue\n",
    "\n",
    "        name = item.get('name', '')\n",
    "        desc = item.get('description', '')\n",
    "        clean_desc = clean_text(desc)\n",
    "        if not clean_desc:\n",
    "            continue\n",
    "\n",
    "        p_texts.append(name + ': ' + clean_desc)\n",
    "        p_ids.append(product_id)\n",
    "\n",
    "    return p_texts, p_ids\n",
    "\n",
    "\n",
    "texts, ids  = extract_texts_and_ids(records)\n",
    "print('Size of text list: ' + str(len(texts)))"
   ]
  },
  {
   "cell_type": "code",
   "execution_count": 21,
   "metadata": {},
   "outputs": [
    {
     "name": "stderr",
     "output_type": "stream",
     "text": [
      "Batches: 100%|██████████| 48/48 [00:26<00:00,  1.78it/s]\n"
     ]
    }
   ],
   "source": [
    "embs  = model.encode(texts, convert_to_numpy=True, show_progress_bar=True)\n",
    "\n",
    "norms = np.linalg.norm(embs, axis=1, keepdims=True)\n",
    "embs  = embs / np.clip(norms, 1e-8, None)\n",
    "\n",
    "dim   = embs.shape[1]\n",
    "index = faiss.IndexFlatIP(dim)  \n",
    "index.add(embs.astype(\"float32\"))"
   ]
  },
  {
   "cell_type": "code",
   "execution_count": 22,
   "metadata": {},
   "outputs": [],
   "source": [
    "np.save(\"product_embeddings.npy\", embs)"
   ]
  },
  {
   "cell_type": "code",
   "execution_count": 17,
   "metadata": {},
   "outputs": [
    {
     "name": "stdout",
     "output_type": "stream",
     "text": [
      "0.755 — • Chompy bird hat  \n",
      "  \n",
      "• Eagle cape  \n",
      "• Desert amulet 1  \n",
      "  \n",
      "• Beginner wand  \n",
      "• Gold satchel  \n",
      "  \n",
      "• Samurai greaves  \n",
      "  \n",
      "• Moonclan gloves  \n",
      "• Slave boots\n",
      "0.744 — Sorry for not replying sooner. I use r245, g190, b130. It achieves a pretty nice blonde but your results might vary on your screen.\n",
      "0.725 — I totally agréé. I want to bé héalthy, not scary\n",
      "0.716 — I'm using Mornes leggings, colour doesn't match well but the shape does imo.  \n",
      "0.676 — No worries :) thanks I’ll have a look at that fashion! \n",
      "0.635 — Haha, we still have our original xbox so I may have to hook it up and play through fable\n",
      "0.629 — thank you for your tips! very useful.\n",
      "0.623 — I dunno.. its a suit you're gonna wear for a day.  Chances are its going to be too formal to wear to anything like work or a night out.  Seems like a waste to buy it unless you attend formal events on the regular.  The list of reasons seem pretty superficial too.\n",
      "0.620 — For the Frayed Blade, I'm currently using the Full Ringed Knight Armor, except for the helmet, for which I use the Billed Mask.\n",
      "0.605 — Dude. You're messing up with the weapons if you're going for star platinun\n",
      "0.599 — Nice set up there! :D\n",
      "0.595 — I also run the magic clutch ring because why not \n",
      "0.592 — My eyebrows are so pale I have trouble with them seeming invisible as it is. If they weren't kinda bushy they would be. Screw this. I hate to seem like a philistine, but it just looks weird. They should call the Mona Lisa, she being the only female to successfully pull of the no-eyebrows look.\n",
      "0.592 — Ah, not the biggest A Wang fan? I think they're quite inspired by his work too.\n",
      "0.588 — I just commented it. Sorry 😅. \n",
      "0.588 — How do you fit shorts correctly, I like mine longish but what's a good length to stop at?\n",
      "0.584 — Looks like you're wearing a hefty trash bag \n",
      "0.582 — Totally agree with everything!! I'm cheap too apparently :)\n",
      "0.578 — He has dark, wavy/curlyish hair that's really thick.  He says he wants a fashionable hair style.  I suggested a haircut simmilar to that of Dr, McDreamy form the show 'grey's anatomy' but he said he wanted a shorter hair cut.  Sugestions? \n",
      "0.575 — It was $54. Very happy with my purchase! I've always wanted a real leather jacket but the ones I wanted were a fortune.\n"
     ]
    }
   ],
   "source": [
    "def retrieve_similar_reviews(query: str, top_k: int = 5):\n",
    "    q_emb = model.encode([query], convert_to_numpy=True)\n",
    "    q_emb = q_emb / np.linalg.norm(q_emb, axis=1, keepdims=True)\n",
    "\n",
    "    scores, idxs = index.search(q_emb.astype(\"float32\"), top_k)\n",
    "    results = []\n",
    "    for sc, idx in zip(scores[0], idxs[0]):\n",
    "        results.append({\n",
    "            \"utterance_id\": ids[idx],\n",
    "            \"text\": texts[idx],\n",
    "            \"score\": float(sc)\n",
    "        })\n",
    "    return results\n",
    "\n",
    "embs = np.load(\"utterance_embeddings.npy\")\n",
    "for res in retrieve_similar_reviews(\"vintage chelsea boots\", top_k=20):\n",
    "    print(f\"{res['score']:.3f} — {res['text']}\")"
   ]
  },
  {
   "cell_type": "code",
   "execution_count": 18,
   "metadata": {},
   "outputs": [
    {
     "ename": "FileNotFoundError",
     "evalue": "[Errno 2] No such file or directory: 'mercari-set1.json'",
     "output_type": "error",
     "traceback": [
      "\u001b[0;31m---------------------------------------------------------------------------\u001b[0m",
      "\u001b[0;31mFileNotFoundError\u001b[0m                         Traceback (most recent call last)",
      "Cell \u001b[0;32mIn[18], line 3\u001b[0m\n\u001b[1;32m      1\u001b[0m \u001b[38;5;28;01mimport\u001b[39;00m\u001b[38;5;250m \u001b[39m\u001b[38;5;21;01mjson\u001b[39;00m\n\u001b[0;32m----> 3\u001b[0m \u001b[38;5;28;01mwith\u001b[39;00m \u001b[38;5;28;43mopen\u001b[39;49m\u001b[43m(\u001b[49m\u001b[38;5;124;43m\"\u001b[39;49m\u001b[38;5;124;43mmercari-set1.json\u001b[39;49m\u001b[38;5;124;43m\"\u001b[39;49m\u001b[43m,\u001b[49m\u001b[38;5;124;43m\"\u001b[39;49m\u001b[38;5;124;43mr\u001b[39;49m\u001b[38;5;124;43m\"\u001b[39;49m\u001b[43m)\u001b[49m \u001b[38;5;28;01mas\u001b[39;00m f:\n\u001b[1;32m      4\u001b[0m     products_set1 \u001b[38;5;241m=\u001b[39m json\u001b[38;5;241m.\u001b[39mload(f)\n\u001b[1;32m      6\u001b[0m \u001b[38;5;28;01mwith\u001b[39;00m \u001b[38;5;28mopen\u001b[39m(\u001b[38;5;124m\"\u001b[39m\u001b[38;5;124mmercari-set2.json\u001b[39m\u001b[38;5;124m\"\u001b[39m, \u001b[38;5;124m\"\u001b[39m\u001b[38;5;124mr\u001b[39m\u001b[38;5;124m\"\u001b[39m) \u001b[38;5;28;01mas\u001b[39;00m f:\n",
      "File \u001b[0;32m~/cs4300p/FitMyVibe/4300env/lib/python3.9/site-packages/IPython/core/interactiveshell.py:310\u001b[0m, in \u001b[0;36m_modified_open\u001b[0;34m(file, *args, **kwargs)\u001b[0m\n\u001b[1;32m    303\u001b[0m \u001b[38;5;28;01mif\u001b[39;00m file \u001b[38;5;129;01min\u001b[39;00m {\u001b[38;5;241m0\u001b[39m, \u001b[38;5;241m1\u001b[39m, \u001b[38;5;241m2\u001b[39m}:\n\u001b[1;32m    304\u001b[0m     \u001b[38;5;28;01mraise\u001b[39;00m \u001b[38;5;167;01mValueError\u001b[39;00m(\n\u001b[1;32m    305\u001b[0m         \u001b[38;5;124mf\u001b[39m\u001b[38;5;124m\"\u001b[39m\u001b[38;5;124mIPython won\u001b[39m\u001b[38;5;124m'\u001b[39m\u001b[38;5;124mt let you open fd=\u001b[39m\u001b[38;5;132;01m{\u001b[39;00mfile\u001b[38;5;132;01m}\u001b[39;00m\u001b[38;5;124m by default \u001b[39m\u001b[38;5;124m\"\u001b[39m\n\u001b[1;32m    306\u001b[0m         \u001b[38;5;124m\"\u001b[39m\u001b[38;5;124mas it is likely to crash IPython. If you know what you are doing, \u001b[39m\u001b[38;5;124m\"\u001b[39m\n\u001b[1;32m    307\u001b[0m         \u001b[38;5;124m\"\u001b[39m\u001b[38;5;124myou can use builtins\u001b[39m\u001b[38;5;124m'\u001b[39m\u001b[38;5;124m open.\u001b[39m\u001b[38;5;124m\"\u001b[39m\n\u001b[1;32m    308\u001b[0m     )\n\u001b[0;32m--> 310\u001b[0m \u001b[38;5;28;01mreturn\u001b[39;00m \u001b[43mio_open\u001b[49m\u001b[43m(\u001b[49m\u001b[43mfile\u001b[49m\u001b[43m,\u001b[49m\u001b[43m \u001b[49m\u001b[38;5;241;43m*\u001b[39;49m\u001b[43margs\u001b[49m\u001b[43m,\u001b[49m\u001b[43m \u001b[49m\u001b[38;5;241;43m*\u001b[39;49m\u001b[38;5;241;43m*\u001b[39;49m\u001b[43mkwargs\u001b[49m\u001b[43m)\u001b[49m\n",
      "\u001b[0;31mFileNotFoundError\u001b[0m: [Errno 2] No such file or directory: 'mercari-set1.json'"
     ]
    }
   ],
   "source": [
    "import json\n",
    "\n",
    "with open(\"mercari-set1.json\",\"r\") as f:\n",
    "    products_set1 = json.load(f)\n",
    "\n",
    "with open(\"mercari-set2.json\", \"r\") as f:\n",
    "    products_set2 = json.load(f)\n",
    "\n",
    "products = products_set1 + products_set2\n",
    "\n",
    "for item in products[:5]:\n",
    "    print(item.keys())\n",
    "\n",
    "prod_texts = []\n",
    "prod_ids   = []\n",
    "prod_meta  = []   \n",
    "\n",
    "for idx, item in enumerate(products):\n",
    "    pid = item.get(\"train_id\")\n",
    "    if pid is None:\n",
    "        continue\n",
    "\n",
    "    raw_desc = item.get(\"item_description\", \"\")\n",
    "    desc = clean_text(raw_desc)\n",
    "    if not desc:\n",
    "        continue\n",
    "\n",
    "    prod_texts.append(desc)\n",
    "    prod_ids.append(pid)\n",
    "    prod_meta.append({\n",
    "        \"train_id\": pid,\n",
    "        \"name\":     item.get(\"name\", \"\"),\n",
    "        \"price\":    item.get(\"price\", \"\"),\n",
    "        \"category\": item.get(\"category_name\", \"\")\n",
    "    })\n",
    "\n",
    "print(f\"Indexing {len(prod_texts)} products…\")\n",
    "\n",
    "prod_embs = model.encode(prod_texts, convert_to_numpy=True, show_progress_bar=True)\n",
    "prod_embs /= np.linalg.norm(prod_embs, axis=1, keepdims=True)\n",
    "\n",
    "idx_prod = faiss.IndexFlatIP(prod_embs.shape[1])\n",
    "idx_prod.add(prod_embs.astype(\"float32\"))\n",
    "\n",
    "\n"
   ]
  },
  {
   "cell_type": "code",
   "execution_count": null,
   "metadata": {},
   "outputs": [],
   "source": [
    "def search_products(query: str,\n",
    "                    k_corpus: int = 10,\n",
    "                    k_prod:   int = 20,\n",
    "                    alpha:    float = 1.0,\n",
    "                    beta:     float = 0.75):\n",
    "    q_emb = model.encode([query], convert_to_numpy=True)\n",
    "    q_emb /= np.linalg.norm(q_emb, axis=1, keepdims=True)\n",
    "    \n",
    "    sim_u, idxs_u = index.search(q_emb.astype(\"float32\"), k_corpus)\n",
    "    top_u_embs = embs[idxs_u[0]]  # shape (k_corpus, dim)\n",
    "    \n",
    "    expanded = alpha * q_emb + beta * top_u_embs.mean(axis=0, keepdims=True)\n",
    "    expanded /= np.linalg.norm(expanded, axis=1, keepdims=True)\n",
    "    \n",
    "    sim_p, idxs_p = idx_prod.search(expanded.astype(\"float32\"), k_prod)\n",
    "    \n",
    "    results = []\n",
    "    for score, pid_idx in zip(sim_p[0], idxs_p[0]):\n",
    "        meta = prod_meta[pid_idx]\n",
    "        results.append({\n",
    "            \"train_id\": meta[\"train_id\"],\n",
    "            \"name\":     meta[\"name\"],\n",
    "            \"price\":    meta[\"price\"],\n",
    "            \"category\": meta[\"category\"],\n",
    "            \"score\":    float(score)\n",
    "        })\n",
    "    return results\n",
    "\n",
    "for r in search_products(\"sporty\", k_corpus=10, k_prod=10):\n",
    "    print(f\"{r['score']:.3f}\\t{r['name']} (${r['price']}) — {r['category']}\")"
   ]
  }
 ],
 "metadata": {
  "kernelspec": {
   "display_name": "Python 3",
   "language": "python",
   "name": "python3"
  },
  "language_info": {
   "codemirror_mode": {
    "name": "ipython",
    "version": 3
   },
   "file_extension": ".py",
   "mimetype": "text/x-python",
   "name": "python",
   "nbconvert_exporter": "python",
   "pygments_lexer": "ipython3",
   "version": "3.9.10"
  }
 },
 "nbformat": 4,
 "nbformat_minor": 2
}
