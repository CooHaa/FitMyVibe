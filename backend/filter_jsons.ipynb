{
 "cells": [
  {
   "cell_type": "code",
   "execution_count": 1,
   "id": "5a904372",
   "metadata": {},
   "outputs": [
    {
     "name": "stdout",
     "output_type": "stream",
     "text": [
      "Kept 803 out of 1520 items\n"
     ]
    }
   ],
   "source": [
    "import json\n",
    "\n",
    "with open('COMBINED-FINAL.json', 'r') as f:\n",
    "    items = json.load(f)\n",
    "\n",
    "def word_count(s: str) -> int:\n",
    "    return len(s.strip().split())\n",
    "\n",
    "filtered_items = [\n",
    "    item for item in items\n",
    "    if 6 <= word_count(item.get('description', '')) <= 25\n",
    "]\n",
    "\n",
    "print(f\"Kept {len(filtered_items)} out of {len(items)} items\")\n",
    "\n",
    "with open('filtered_items.json', 'w') as f:\n",
    "    json.dump(filtered_items, f, indent=2)"
   ]
  }
 ],
 "metadata": {
  "kernelspec": {
   "display_name": "4300env",
   "language": "python",
   "name": "python3"
  },
  "language_info": {
   "codemirror_mode": {
    "name": "ipython",
    "version": 3
   },
   "file_extension": ".py",
   "mimetype": "text/x-python",
   "name": "python",
   "nbconvert_exporter": "python",
   "pygments_lexer": "ipython3",
   "version": "3.9.12"
  }
 },
 "nbformat": 4,
 "nbformat_minor": 5
}
